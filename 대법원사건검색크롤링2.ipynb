{
  "nbformat": 4,
  "nbformat_minor": 0,
  "metadata": {
    "kernelspec": {
      "display_name": "Python 3",
      "language": "python",
      "name": "python3"
    },
    "language_info": {
      "codemirror_mode": {
        "name": "ipython",
        "version": 3
      },
      "file_extension": ".py",
      "mimetype": "text/x-python",
      "name": "python",
      "nbconvert_exporter": "python",
      "pygments_lexer": "ipython3",
      "version": "3.7.4"
    },
    "colab": {
      "name": "대법원사건검색크롤링.ipynb",
      "provenance": [],
      "toc_visible": true,
      "include_colab_link": true
    }
  },
  "cells": [
    {
      "cell_type": "markdown",
      "metadata": {
        "id": "view-in-github",
        "colab_type": "text"
      },
      "source": [
        "<a href=\"https://colab.research.google.com/github/DeokhyeonLee/pythonstudy/blob/master/%E1%84%83%E1%85%A2%E1%84%87%E1%85%A5%E1%86%B8%E1%84%8B%E1%85%AF%E1%86%AB%E1%84%89%E1%85%A1%E1%84%80%E1%85%A5%E1%86%AB%E1%84%80%E1%85%A5%E1%86%B7%E1%84%89%E1%85%A2%E1%86%A8%E1%84%8F%E1%85%B3%E1%84%85%E1%85%A9%E1%86%AF%E1%84%85%E1%85%B5%E1%86%BC2.ipynb\" target=\"_parent\"><img src=\"https://colab.research.google.com/assets/colab-badge.svg\" alt=\"Open In Colab\"/></a>"
      ]
    },
    {
      "cell_type": "code",
      "metadata": {
        "id": "_ifMx3ku-YHp",
        "colab_type": "code",
        "colab": {}
      },
      "source": [
        "import requests\n",
        "import pandas as pd\n",
        "import numpy as np\n",
        "import webbrowser\n",
        "import re\n",
        "from pandas import Series, DataFrame\n",
        "from bs4 import BeautifulSoup\n",
        "from urllib.request import urlopen\n",
        "#from selenium import webdriver\n",
        "#from selenium.webdriver.support.ui import Select\n",
        "import time"
      ],
      "execution_count": 0,
      "outputs": []
    },
    {
      "cell_type": "markdown",
      "metadata": {
        "id": "6ItllizS-YHt",
        "colab_type": "text"
      },
      "source": [
        "## 엑셀 파일 불러오기"
      ]
    },
    {
      "cell_type": "code",
      "metadata": {
        "id": "zXwGhsHY-YHu",
        "colab_type": "code",
        "colab": {}
      },
      "source": [
        "#데이터 가져오기\n",
        "csv_data = pd.read_csv('court.csv', header=None)\n",
        "court = []\n",
        "sagun = []\n",
        "name = []\n",
        "for i in range(1, len(csv_data)):\n",
        "    x = csv_data[0][i]\n",
        "    court.append(x)\n",
        "    y = csv_data[1][i]\n",
        "    sagun.append(y)\n",
        "    z = csv_data[2][i]\n",
        "    name.append(z)\n",
        "\n",
        "#리스트 초기화 \n",
        "a0 = [] #사건번호 - Index0\n",
        "a1 = [] #접수일_Index3\n",
        "a2 = [] #개시결정일_Index6\n",
        "a3 = [] #채권이의마감일_Index7\n",
        "a4 = [] #변제계획인가일_Index8\n",
        "a5 = [] #면책결정일_Index9\n",
        "a6 = [] #절차폐지결정일_Index10\n",
        "cw = []"
      ],
      "execution_count": 0,
      "outputs": []
    },
    {
      "cell_type": "markdown",
      "metadata": {
        "id": "nrX7dB8g-YHw",
        "colab_type": "text"
      },
      "source": [
        "## 드라이버 및 사이트 지정"
      ]
    },
    {
      "cell_type": "code",
      "metadata": {
        "id": "iY0MlGQu_Jel",
        "colab_type": "code",
        "colab": {
          "base_uri": "https://localhost:8080/",
          "height": 34
        },
        "outputId": "362575dc-6333-45ae-bf33-1ad0b1b0a1ff"
      },
      "source": [
        ""
      ],
      "execution_count": 6,
      "outputs": [
        {
          "output_type": "stream",
          "text": [
            "[]\n"
          ],
          "name": "stdout"
        }
      ]
    },
    {
      "cell_type": "code",
      "metadata": {
        "id": "0tYtHEel-YHx",
        "colab_type": "code",
        "colab": {}
      },
      "source": [
        "drv = webdriver.Chrome('/Users/deokhyeon/chromedriver_mac64/chromedriver')\n",
        "#newdrv = webdriver.Chrome('/Users/deokhyeon/chromedriver_mac64/chromedriver')\n",
        "url = 'http://safind.scourt.go.kr/sf/mysafind.jsp?sch_sa_gbn=&sch_bub_nm=&sa_year=&sa_gubun=&sa_serial=&x=&y=&saveCookie='\n",
        "#soup = BeautifulSoup(requests.get(url).text, \"html.parser\")\n",
        "options = webdriver.ChromeOptions()\n",
        "cnt = 0\n",
        "drv.implicitly_wait(10)\n",
        "drv.get(url)\n",
        "#체크박스 체크\n",
        "drv.find_element_by_xpath(\"//*[@id='inputsano_ch']\").click()\n",
        "drv.find_element_by_xpath(\"//*[@id='BubSort']\").click()    \n",
        "drv.find_element_by_xpath(\"//*[@id='SagbnSort']\").click()\n",
        "drv.find_element_by_xpath(\"//*[@id='saveCookieYn']\").click()\n"
      ],
      "execution_count": 0,
      "outputs": []
    },
    {
      "cell_type": "markdown",
      "metadata": {
        "id": "Vepjj2n6-YHz",
        "colab_type": "text"
      },
      "source": [
        "## 엑셀에 저장된 데이터 자동입력하는 모듈"
      ]
    },
    {
      "cell_type": "code",
      "metadata": {
        "id": "Mh_VY_WV-YH0",
        "colab_type": "code",
        "colab": {},
        "outputId": "3b8e80b4-11c8-4219-c301-df21a0e70652"
      },
      "source": [
        "#관할법원\n",
        "drv.find_element_by_xpath(\"//select[@name='sch_bub_nm']/option[text()='\"+court[cnt]+\"']\").click()\n",
        "\n",
        "#사건번호\n",
        "input_sano = drv.find_element_by_xpath(\"//*[@name='input_sano']\")\n",
        "input_sano.send_keys(sagun[cnt])\n",
        "\n",
        "#채무자명 입력\n",
        "ds_nm = drv.find_element_by_xpath(\"//*[@id='ds_nm']\")\n",
        "ds_nm.send_keys(name[cnt])\n",
        "\n",
        "#자동문자 방지 입력\n",
        "input_answer = drv.find_element_by_xpath(\"//*[@id='answer']\")\n",
        "\n",
        "capcha = input()\n",
        "input_answer.send_keys(capcha)\n",
        "\n",
        "#검색버튼 클릭\n",
        "drv.find_element_by_xpath(\"//*[@class='redBtn']\").click()\n",
        "cnt += 1\n",
        "\n",
        "#사건일반내용의 기본내용 파싱\n",
        "html = drv.page_source\n",
        "soup = BeautifulSoup(html, 'html.parser')\n",
        "time.sleep(1)\n",
        "\n",
        "table = soup.find('table', {'class':'tableVer'})\n",
        "listt = table.find_all('th') #항목이름\n",
        "listt2 = table.find_all('td') #항목내용\n",
        "\n",
        "#인덱스별 접근이 아니라 전체를 파싱한 다음에 필요한 항목만 불러올 수 있게끔 바꿔보자\n",
        "a0.append(listt2[0].text.strip())\n",
        "a1.append(listt2[3].text.strip())\n",
        "a2.append(listt2[6].text.strip())\n",
        "a3.append(listt2[7].text.strip())\n",
        "a4.append(listt2[8].text.strip())\n",
        "a5.append(listt2[9].text.strip())\n",
        "a6.append(listt2[10].text.strip())\n",
        "\n",
        "\n",
        "#사건일반내용의 당사자 파싱\n",
        "#x = soup.select(\"#subTab1 > table:nth-child(11) > tbody > tr > td.tit\")\n",
        "#for i in range (len(x)):\n",
        "#    y = x[i].get_text()\n",
        "#    if '한국주택금융공사' in y:\n",
        "#        cw.append(y)\n",
        "    \n",
        "#사건진행내용 클릭\n",
        "element = drv.find_element_by_class_name(\"subTab2\")\n",
        "drv.execute_script(\"goMove('0');\", element)\n",
        "#time.sleep(1)\n",
        "\n",
        "#나의 사건 검색하기\n",
        "#drv.find_element_by_xpath(\".//a[@href='/sf/mysafind.jsp?theme=scourt']\").click()\n",
        "\n",
        "\n",
        "#test 나의 사건검색하기 누르기\n",
        "#drv.find_element_by_xpath(\"//*[@href='http://safind.scourt.go.kr/sf/mysafind.jsp?theme=scourt']\").click()"
      ],
      "execution_count": 0,
      "outputs": [
        {
          "output_type": "stream",
          "text": [
            "714097\n"
          ],
          "name": "stdout"
        }
      ]
    },
    {
      "cell_type": "markdown",
      "metadata": {
        "id": "Y9QABFdQ-YH9",
        "colab_type": "text"
      },
      "source": [
        "## 데이프레임 만든 후 csv파일로 저장"
      ]
    },
    {
      "cell_type": "code",
      "metadata": {
        "id": "0--5r_3n-YH-",
        "colab_type": "code",
        "colab": {}
      },
      "source": [
        "#리스트 다 만든 다음에 실행하기\n",
        "df_sa_num = pd.DataFrame(a0, columns = ['사건번호'])\n",
        "df_jeopjuil = pd.DataFrame(a1, columns=['접수일'])\n",
        "df_gaesiil = pd.DataFrame(a2, columns = ['개시결정일'])\n",
        "df_Iuiil = pd.DataFrame(a3, columns = ['채권이의마감일'])\n",
        "df_ingail = pd.DataFrame(a4, columns = ['변제계획인가일'])\n",
        "df_myeonil = pd.DataFrame(a5, columns = ['면책결정일'])\n",
        "df_pyejiil = pd.DataFrame(a6, columns = ['절차폐지결정일'])"
      ],
      "execution_count": 0,
      "outputs": []
    },
    {
      "cell_type": "code",
      "metadata": {
        "id": "pa2gq8pb-YIF",
        "colab_type": "code",
        "colab": {}
      },
      "source": [
        "df = pd.concat([df_sa_num, df_jeopjuil, df_gaesiil, df_Iuiil, df_ingail, df_myeonil, df_pyejiil], axis=1)\n",
        "df.to_csv('Hakjageum.csv', index = False, encoding=\"euc-kr\")"
      ],
      "execution_count": 0,
      "outputs": []
    },
    {
      "cell_type": "code",
      "metadata": {
        "id": "6sEVIx8n-YII",
        "colab_type": "code",
        "colab": {}
      },
      "source": [
        ""
      ],
      "execution_count": 0,
      "outputs": []
    },
    {
      "cell_type": "code",
      "metadata": {
        "id": "3w9jWCoQ-YIO",
        "colab_type": "code",
        "colab": {}
      },
      "source": [
        ""
      ],
      "execution_count": 0,
      "outputs": []
    },
    {
      "cell_type": "code",
      "metadata": {
        "id": "DadmJpvb-YIS",
        "colab_type": "code",
        "colab": {}
      },
      "source": [
        ""
      ],
      "execution_count": 0,
      "outputs": []
    },
    {
      "cell_type": "code",
      "metadata": {
        "id": "BkfhVmsw-YIW",
        "colab_type": "code",
        "colab": {}
      },
      "source": [
        ""
      ],
      "execution_count": 0,
      "outputs": []
    },
    {
      "cell_type": "code",
      "metadata": {
        "id": "lVPC1FY0-YIb",
        "colab_type": "code",
        "colab": {}
      },
      "source": [
        ""
      ],
      "execution_count": 0,
      "outputs": []
    },
    {
      "cell_type": "code",
      "metadata": {
        "id": "rQrSQzOQ-YId",
        "colab_type": "code",
        "colab": {},
        "outputId": "df416f95-7531-4a45-a6d5-ca01059c1def"
      },
      "source": [
        "df"
      ],
      "execution_count": 0,
      "outputs": [
        {
          "output_type": "execute_result",
          "data": {
            "text/html": [
              "<div>\n",
              "<style scoped>\n",
              "    .dataframe tbody tr th:only-of-type {\n",
              "        vertical-align: middle;\n",
              "    }\n",
              "\n",
              "    .dataframe tbody tr th {\n",
              "        vertical-align: top;\n",
              "    }\n",
              "\n",
              "    .dataframe thead th {\n",
              "        text-align: right;\n",
              "    }\n",
              "</style>\n",
              "<table border=\"1\" class=\"dataframe\">\n",
              "  <thead>\n",
              "    <tr style=\"text-align: right;\">\n",
              "      <th></th>\n",
              "      <th>사건번호</th>\n",
              "      <th>접수일</th>\n",
              "      <th>개시결정일</th>\n",
              "      <th>채권이의마감일</th>\n",
              "      <th>변제계획인가일</th>\n",
              "      <th>면책결정일</th>\n",
              "      <th>절차폐지결정일</th>\n",
              "    </tr>\n",
              "  </thead>\n",
              "  <tbody>\n",
              "    <tr>\n",
              "      <th>0</th>\n",
              "      <td>2016개회41908</td>\n",
              "      <td>2016.09.19</td>\n",
              "      <td>2017.01.16</td>\n",
              "      <td>2017.02.28</td>\n",
              "      <td>2017.04.04</td>\n",
              "      <td></td>\n",
              "      <td></td>\n",
              "    </tr>\n",
              "    <tr>\n",
              "      <th>1</th>\n",
              "      <td>2018개회1043001</td>\n",
              "      <td>2018.06.28</td>\n",
              "      <td>2018.07.20</td>\n",
              "      <td>2018.08.20</td>\n",
              "      <td>2018.10.04</td>\n",
              "      <td></td>\n",
              "      <td></td>\n",
              "    </tr>\n",
              "    <tr>\n",
              "      <th>2</th>\n",
              "      <td>2014개회191060</td>\n",
              "      <td>2014.10.07</td>\n",
              "      <td>2015.01.30</td>\n",
              "      <td>2015.03.19</td>\n",
              "      <td>2015.04.29</td>\n",
              "      <td></td>\n",
              "      <td></td>\n",
              "    </tr>\n",
              "  </tbody>\n",
              "</table>\n",
              "</div>"
            ],
            "text/plain": [
              "            사건번호         접수일       개시결정일     채권이의마감일     변제계획인가일 면책결정일 절차폐지결정일\n",
              "0    2016개회41908  2016.09.19  2017.01.16  2017.02.28  2017.04.04              \n",
              "1  2018개회1043001  2018.06.28  2018.07.20  2018.08.20  2018.10.04              \n",
              "2   2014개회191060  2014.10.07  2015.01.30  2015.03.19  2015.04.29              "
            ]
          },
          "metadata": {
            "tags": []
          },
          "execution_count": 12
        }
      ]
    },
    {
      "cell_type": "code",
      "metadata": {
        "id": "Mh8HE0eh-YIh",
        "colab_type": "code",
        "colab": {}
      },
      "source": [
        ""
      ],
      "execution_count": 0,
      "outputs": []
    },
    {
      "cell_type": "code",
      "metadata": {
        "id": "7R9yAiwl-YIj",
        "colab_type": "code",
        "colab": {}
      },
      "source": [
        ""
      ],
      "execution_count": 0,
      "outputs": []
    },
    {
      "cell_type": "code",
      "metadata": {
        "id": "ovyiEGXY-YIl",
        "colab_type": "code",
        "colab": {}
      },
      "source": [
        ""
      ],
      "execution_count": 0,
      "outputs": []
    },
    {
      "cell_type": "code",
      "metadata": {
        "id": "5Ynti0yb-YIo",
        "colab_type": "code",
        "colab": {}
      },
      "source": [
        ""
      ],
      "execution_count": 0,
      "outputs": []
    },
    {
      "cell_type": "code",
      "metadata": {
        "id": "qoJo749t-YIq",
        "colab_type": "code",
        "colab": {}
      },
      "source": [
        ""
      ],
      "execution_count": 0,
      "outputs": []
    },
    {
      "cell_type": "code",
      "metadata": {
        "scrolled": false,
        "id": "qS2vE6rS-YIu",
        "colab_type": "code",
        "colab": {},
        "outputId": "9883144f-7d87-43f1-c953-0a6f901dc8e9"
      },
      "source": [
        "html = drv.page_source\n",
        "soup = BeautifulSoup(html, 'html.parser')\n",
        "#사건 진행내용 파싱\n",
        "#z = soup.find_all(\"td\", class_=\"tit\").get_text()\n",
        "#print(z)\n",
        "z = soup.select(\"#subTab2 > table.tableHor > tbody > tr > td[style]\")\n",
        "len(z)\n",
        "z1 = []\n",
        "z2 = []\n",
        "z3 = []\n",
        "for i in range (len(z)):\n",
        "    a = z[i].text.strip()\n",
        "    if '한국주택금융공사' in a:\n",
        "        z1 = (z[i-1]).text().strip()\n",
        "        z2 = (z[i]).get_text().lstrip()\n",
        "        z3 = (z[i+1]).get_text()\n",
        "\n",
        "    #a = z[i].text.strip()\n",
        "print(z1)"
      ],
      "execution_count": 0,
      "outputs": [
        {
          "output_type": "error",
          "ename": "TypeError",
          "evalue": "'str' object is not callable",
          "traceback": [
            "\u001b[0;31m---------------------------------------------------------------------------\u001b[0m",
            "\u001b[0;31mTypeError\u001b[0m                                 Traceback (most recent call last)",
            "\u001b[0;32m<ipython-input-243-2f2cb0bc9d61>\u001b[0m in \u001b[0;36m<module>\u001b[0;34m\u001b[0m\n\u001b[1;32m     12\u001b[0m     \u001b[0ma\u001b[0m \u001b[0;34m=\u001b[0m \u001b[0mz\u001b[0m\u001b[0;34m[\u001b[0m\u001b[0mi\u001b[0m\u001b[0;34m]\u001b[0m\u001b[0;34m.\u001b[0m\u001b[0mtext\u001b[0m\u001b[0;34m.\u001b[0m\u001b[0mstrip\u001b[0m\u001b[0;34m(\u001b[0m\u001b[0;34m)\u001b[0m\u001b[0;34m\u001b[0m\u001b[0;34m\u001b[0m\u001b[0m\n\u001b[1;32m     13\u001b[0m     \u001b[0;32mif\u001b[0m \u001b[0;34m'한국주택금융공사'\u001b[0m \u001b[0;32min\u001b[0m \u001b[0ma\u001b[0m\u001b[0;34m:\u001b[0m\u001b[0;34m\u001b[0m\u001b[0;34m\u001b[0m\u001b[0m\n\u001b[0;32m---> 14\u001b[0;31m         \u001b[0mz1\u001b[0m \u001b[0;34m=\u001b[0m \u001b[0;34m(\u001b[0m\u001b[0mz\u001b[0m\u001b[0;34m[\u001b[0m\u001b[0mi\u001b[0m\u001b[0;34m-\u001b[0m\u001b[0;36m1\u001b[0m\u001b[0;34m]\u001b[0m\u001b[0;34m)\u001b[0m\u001b[0;34m.\u001b[0m\u001b[0mtext\u001b[0m\u001b[0;34m(\u001b[0m\u001b[0;34m)\u001b[0m\u001b[0;34m.\u001b[0m\u001b[0mstrip\u001b[0m\u001b[0;34m(\u001b[0m\u001b[0;34m)\u001b[0m\u001b[0;34m\u001b[0m\u001b[0;34m\u001b[0m\u001b[0m\n\u001b[0m\u001b[1;32m     15\u001b[0m         \u001b[0mz2\u001b[0m \u001b[0;34m=\u001b[0m \u001b[0;34m(\u001b[0m\u001b[0mz\u001b[0m\u001b[0;34m[\u001b[0m\u001b[0mi\u001b[0m\u001b[0;34m]\u001b[0m\u001b[0;34m)\u001b[0m\u001b[0;34m.\u001b[0m\u001b[0mget_text\u001b[0m\u001b[0;34m(\u001b[0m\u001b[0;34m)\u001b[0m\u001b[0;34m.\u001b[0m\u001b[0mlstrip\u001b[0m\u001b[0;34m(\u001b[0m\u001b[0;34m)\u001b[0m\u001b[0;34m\u001b[0m\u001b[0;34m\u001b[0m\u001b[0m\n\u001b[1;32m     16\u001b[0m         \u001b[0mz3\u001b[0m \u001b[0;34m=\u001b[0m \u001b[0;34m(\u001b[0m\u001b[0mz\u001b[0m\u001b[0;34m[\u001b[0m\u001b[0mi\u001b[0m\u001b[0;34m+\u001b[0m\u001b[0;36m1\u001b[0m\u001b[0;34m]\u001b[0m\u001b[0;34m)\u001b[0m\u001b[0;34m.\u001b[0m\u001b[0mget_text\u001b[0m\u001b[0;34m(\u001b[0m\u001b[0;34m)\u001b[0m\u001b[0;34m\u001b[0m\u001b[0;34m\u001b[0m\u001b[0m\n",
            "\u001b[0;31mTypeError\u001b[0m: 'str' object is not callable"
          ]
        }
      ]
    },
    {
      "cell_type": "code",
      "metadata": {
        "id": "xlIy8pOq-YIx",
        "colab_type": "code",
        "colab": {}
      },
      "source": [
        "for i in range \n",
        "z1 = soup.select(\"#subTab2 > table.tableHor > tbody > tr:nth-child(1) > td:nth-child(1)\")\n",
        "z2 = soup.select(\"#subTab2 > table.tableHor > tbody > tr:nth-child(1) > td.tit\")\n",
        "z3 = soup.select(\"#subTab2 > table.tableHor > tbody > tr:nth-child(1) > td:nth-child(3)\")\n"
      ],
      "execution_count": 0,
      "outputs": []
    },
    {
      "cell_type": "code",
      "metadata": {
        "id": "6YvqtXfx-YIz",
        "colab_type": "code",
        "colab": {}
      },
      "source": [
        "   for i in range(len(x)):\n",
        "        z1.append(x[i].text)\n",
        "        coName.append(listt[cnt].find(\"td\", {\"class\":\"tit\"}).text)\n",
        "        coRating.append(listt[cnt].find_all(text=re.compile(\"^[A-C]\")))\n",
        "        ratingYear.append(listt[cnt].find_all(text=re.compile(\"^[2]\\d{3}\")))\n",
        "        cnt += 1\n",
        "        x += 10"
      ],
      "execution_count": 0,
      "outputs": []
    },
    {
      "cell_type": "code",
      "metadata": {
        "id": "cIFggmkW-YI4",
        "colab_type": "code",
        "colab": {}
      },
      "source": [
        "\n",
        "#subTab2 > table.tableHor > tbody > tr:nth-child(1) > td:nth-child(1)\n",
        "#subTab2 > table.tableHor > tbody > tr:nth-child(1) > td.tit\n",
        "#subTab2 > table.tableHor > tbody > tr:nth-child(1) > td:nth-child(3)"
      ],
      "execution_count": 0,
      "outputs": []
    },
    {
      "cell_type": "code",
      "metadata": {
        "id": "bumlNTWQ-YI8",
        "colab_type": "code",
        "colab": {},
        "outputId": "97f83004-174d-4873-f345-40a9c2cb04dd"
      },
      "source": [
        "x[1].find_all('td')"
      ],
      "execution_count": 0,
      "outputs": [
        {
          "output_type": "execute_result",
          "data": {
            "text/plain": [
              "[<td style=\"color: #660000;\"> 2017.11.27</td>,\n",
              " <td class=\"tit\" style=\"color: #660000;\"> 채무자 강O호 금지명령신청 제출</td>,\n",
              " <td style=\"color: #660000;\">  </td>]"
            ]
          },
          "metadata": {
            "tags": []
          },
          "execution_count": 168
        }
      ]
    },
    {
      "cell_type": "code",
      "metadata": {
        "id": "P6h8toxT-YJA",
        "colab_type": "code",
        "colab": {},
        "outputId": "d0f74067-d083-45bd-ba2d-f22401ebb7ec"
      },
      "source": [
        "file_format = ['son', 'seungha']\n",
        "file_name = 'My name is seungha'\n",
        " \n",
        "if any(format in file_name for format in file_format):\n",
        "    print(format)\n",
        "\n"
      ],
      "execution_count": 0,
      "outputs": [
        {
          "output_type": "stream",
          "text": [
            "<built-in function format>\n"
          ],
          "name": "stdout"
        }
      ]
    },
    {
      "cell_type": "code",
      "metadata": {
        "id": "fnYzeAOv-YJF",
        "colab_type": "code",
        "colab": {},
        "outputId": "e3d257d6-0590-4a67-bdec-f371bbed03ac"
      },
      "source": [
        "coName = []\n",
        "coRating = []\n",
        "ratingYear = []\n",
        "ratingCo = []\n",
        "df_ratingCo = pd.DataFrame(ratingCo, columns = ['RatingCo'])\n",
        "df_coName = pd.DataFrame(coName, columns=['CompanyName'])\n",
        "df_coRating = pd.DataFrame(coRating, columns = ['Rating'])\n",
        "df_ratingYear = pd.DataFrame(ratingYear, columns = ['Day'])\n",
        "\n",
        "df = pd.concat([df_ratingCo, df_coName, df_coRating, df_ratingYear], axis=1)\n",
        "df"
      ],
      "execution_count": 0,
      "outputs": [
        {
          "output_type": "execute_result",
          "data": {
            "text/html": [
              "<div>\n",
              "<style scoped>\n",
              "    .dataframe tbody tr th:only-of-type {\n",
              "        vertical-align: middle;\n",
              "    }\n",
              "\n",
              "    .dataframe tbody tr th {\n",
              "        vertical-align: top;\n",
              "    }\n",
              "\n",
              "    .dataframe thead th {\n",
              "        text-align: right;\n",
              "    }\n",
              "</style>\n",
              "<table border=\"1\" class=\"dataframe\">\n",
              "  <thead>\n",
              "    <tr style=\"text-align: right;\">\n",
              "      <th></th>\n",
              "      <th>RatingCo</th>\n",
              "      <th>CompanyName</th>\n",
              "      <th>Rating</th>\n",
              "      <th>Day</th>\n",
              "    </tr>\n",
              "  </thead>\n",
              "  <tbody>\n",
              "  </tbody>\n",
              "</table>\n",
              "</div>"
            ],
            "text/plain": [
              "Empty DataFrame\n",
              "Columns: [RatingCo, CompanyName, Rating, Day]\n",
              "Index: []"
            ]
          },
          "metadata": {
            "tags": []
          },
          "execution_count": 111
        }
      ]
    },
    {
      "cell_type": "code",
      "metadata": {
        "id": "6an9tGgW-YJJ",
        "colab_type": "code",
        "colab": {},
        "outputId": "a8a5060c-d54c-40d5-9e44-3fb1c7fa63a6"
      },
      "source": [
        "for i in range (len(x)):\n",
        "    y = x[i].get_text()\n",
        "    if '한국주택금융공사' in y:\n",
        "        print(y)\n",
        "        \n",
        "print(type(y))"
      ],
      "execution_count": 0,
      "outputs": [
        {
          "output_type": "stream",
          "text": [
            "[<th>사건번호</th>, <th>사건명</th>, <th>재판부</th>, <th>접수일</th>, <th>채무자</th>, <th>회생위원</th>, <th>개시결정일</th>, <th>채권이의마감일</th>, <th>변제계획인가일</th>, <th>면책결정일</th>, <th>절차폐지결정일</th>, <th>종국결과</th>, <th colspan=\"2\">변제현황조회</th>, <th colspan=\"2\">송달료, 보관금, 종결에 따른 잔액조회</th>]\n"
          ],
          "name": "stdout"
        }
      ]
    },
    {
      "cell_type": "code",
      "metadata": {
        "id": "U8u7XRS8-YJL",
        "colab_type": "code",
        "colab": {},
        "outputId": "9b201209-2900-4cb4-e425-0e730748b287"
      },
      "source": [
        "print(cw)"
      ],
      "execution_count": 0,
      "outputs": [
        {
          "output_type": "stream",
          "text": [
            "['\\xa0채권번호4. 한국주택금융공사 ', '\\xa0채권번호2. 한국주택금융공사 ', '\\xa0채권번호1. 한국주택금융공사 ', '\\xa0채권번호2. 한국주택금융공사 ']\n"
          ],
          "name": "stdout"
        }
      ]
    },
    {
      "cell_type": "code",
      "metadata": {
        "id": "-YqgBbK7-YJO",
        "colab_type": "code",
        "colab": {}
      },
      "source": [
        "drv.quit()"
      ],
      "execution_count": 0,
      "outputs": []
    },
    {
      "cell_type": "code",
      "metadata": {
        "id": "Z17d6rSz-YJR",
        "colab_type": "code",
        "colab": {}
      },
      "source": [
        "#사건일반내용 파싱\n",
        "html = drv.page_source\n",
        "soup = BeautifulSoup(html, 'html.parser')\n",
        "\n",
        "#기본내용\n",
        "table = soup.find('table', {'class':'tableVer'})\n",
        "listt = table.find_all('th') #항목이름\n",
        "listt2 = table.find_all('td') #항목내용\n",
        "\n",
        "#인덱스별 접근이 아니라 전체를 파싱한 다음에 필요한 항목만 불러올 수 있게끔 바꿔보자\n",
        "a1.append(listt2[3].text)\n",
        "a2.append(listt2[6].text)\n",
        "a3.append(listt2[7].text)\n",
        "a4.append(listt2[8].text)\n",
        "a5.append(listt2[9].text)\n",
        "a6.append(listt2[10].text)\n",
        "\n",
        "#당사자 내용 파싱\n",
        "soup.select(\"#subTab1 > table:nth-child(11) > tbody\")\n",
        "\n",
        "for i in range(1,len(listt)):\n",
        "    x = 1\n",
        "    a1.append(listt2[x].text)\n",
        "    coName.append(listt[cnt].find(\"td\", {\"class\":\"tit\"}).text)\n",
        "    coRating.append(listt[cnt].find_all(text=re.compile(\"^[A-C]\")))\n",
        "    ratingYear.append(listt[cnt].find_all(text=re.compile(\"^[2]\\d{3}\")))\n",
        "    cnt += 1\n",
        "    x += 10\n"
      ],
      "execution_count": 0,
      "outputs": []
    },
    {
      "cell_type": "code",
      "metadata": {
        "collapsed": true,
        "id": "7mbAg4Zo-YJT",
        "colab_type": "code",
        "colab": {},
        "outputId": "fdeae460-d3be-4c54-d139-2d9c5a9977a7"
      },
      "source": [
        "#사건일반내용의 당사자 파싱\n",
        "cw = []\n",
        "html = drv.page_source\n",
        "bs = BeautifulSoup(html, 'html.parser')\n",
        "x = bs.select(\"#subTab1 > table:nth-child(11) > tbody > tr > td.tit\")\n",
        "for i in range (len(x)):\n",
        "    y = x[i].get_text()\n",
        "    if '한국주택금융공사' in y:\n",
        "        cw.append(y)\n",
        "    \n",
        "print(cw)"
      ],
      "execution_count": 0,
      "outputs": [
        {
          "output_type": "error",
          "ename": "IndexError",
          "evalue": "list index out of range",
          "traceback": [
            "\u001b[0;31m---------------------------------------------------------------------------\u001b[0m",
            "\u001b[0;31mIndexError\u001b[0m                                Traceback (most recent call last)",
            "\u001b[0;32m<ipython-input-135-4a88a7b57b14>\u001b[0m in \u001b[0;36m<module>\u001b[0;34m\u001b[0m\n\u001b[1;32m      9\u001b[0m         \u001b[0mcw\u001b[0m\u001b[0;34m.\u001b[0m\u001b[0mappend\u001b[0m\u001b[0;34m(\u001b[0m\u001b[0my\u001b[0m\u001b[0;34m)\u001b[0m\u001b[0;34m\u001b[0m\u001b[0;34m\u001b[0m\u001b[0m\n\u001b[1;32m     10\u001b[0m \u001b[0;34m\u001b[0m\u001b[0m\n\u001b[0;32m---> 11\u001b[0;31m \u001b[0mprint\u001b[0m\u001b[0;34m(\u001b[0m\u001b[0mcw\u001b[0m\u001b[0;34m[\u001b[0m\u001b[0;36m0\u001b[0m\u001b[0;34m]\u001b[0m\u001b[0;34m)\u001b[0m\u001b[0;34m\u001b[0m\u001b[0;34m\u001b[0m\u001b[0m\n\u001b[0m",
            "\u001b[0;31mIndexError\u001b[0m: list index out of range"
          ]
        }
      ]
    },
    {
      "cell_type": "code",
      "metadata": {
        "id": "r12Y56t0-YJY",
        "colab_type": "code",
        "colab": {}
      },
      "source": [
        ""
      ],
      "execution_count": 0,
      "outputs": []
    },
    {
      "cell_type": "code",
      "metadata": {
        "id": "hAsh7E9a-YJb",
        "colab_type": "code",
        "colab": {},
        "outputId": "b9fe523c-4147-469b-b220-a10767f46b7e"
      },
      "source": [
        "table = soup.find('table', {'class':'tableVer'})\n",
        "listt = table.find_all('th') #항목이름\n",
        "listt2 = table.find_all('td') #항목내용\n",
        "\n",
        "print(type(table))"
      ],
      "execution_count": 0,
      "outputs": [
        {
          "output_type": "stream",
          "text": [
            "<class 'bs4.element.Tag'>\n"
          ],
          "name": "stdout"
        }
      ]
    },
    {
      "cell_type": "code",
      "metadata": {
        "id": "McAZ6P_m-YJh",
        "colab_type": "code",
        "colab": {},
        "outputId": "15a11720-d44d-49e0-e369-2ca6e05fcd8d"
      },
      "source": [
        "drv.find_element_by_xpath(\"//*[@id='subTab1']/table[4]/tbody\")"
      ],
      "execution_count": 0,
      "outputs": [
        {
          "output_type": "execute_result",
          "data": {
            "text/plain": [
              "<selenium.webdriver.remote.webelement.WebElement (session=\"a71b9598e8bf9bdf65471ddc6f4d237a\", element=\"0b4aab18-cb3c-4743-bf64-1eda46d75dfa\")>"
            ]
          },
          "metadata": {
            "tags": []
          },
          "execution_count": 22
        }
      ]
    },
    {
      "cell_type": "code",
      "metadata": {
        "id": "TedeSU1r-YJk",
        "colab_type": "code",
        "colab": {}
      },
      "source": [
        "#subTab1 > div:nth-child(10)\n",
        "#subTab1 > table:nth-child(11) > tbody\n",
        "#subTab1 > table:nth-child(11) > tbody"
      ],
      "execution_count": 0,
      "outputs": []
    },
    {
      "cell_type": "code",
      "metadata": {
        "id": "mxvgE23l-YJm",
        "colab_type": "code",
        "colab": {},
        "outputId": "a3f9c9f4-6ceb-4c9c-a9c2-b965db93502a"
      },
      "source": [
        "print(a1)"
      ],
      "execution_count": 0,
      "outputs": [
        {
          "output_type": "stream",
          "text": [
            "['\\xa02014.11.03']\n"
          ],
          "name": "stdout"
        }
      ]
    },
    {
      "cell_type": "code",
      "metadata": {
        "id": "PjL7QcUl-YJq",
        "colab_type": "code",
        "colab": {}
      },
      "source": [
        "#사건진행내용 클릭\n",
        "element = drv.find_element_by_class_name(\"subTab2\")\n",
        "drv.execute_script(\"goMove('0');\", element)"
      ],
      "execution_count": 0,
      "outputs": []
    },
    {
      "cell_type": "code",
      "metadata": {
        "id": "luqz7SN6-YJr",
        "colab_type": "code",
        "colab": {}
      },
      "source": [
        "#나의 사건 검색하기\n",
        "drv.find_element_by_xpath(\".//a[@href='/sf/mysafind.jsp?theme=scourt']\").click()"
      ],
      "execution_count": 0,
      "outputs": []
    },
    {
      "cell_type": "code",
      "metadata": {
        "id": "lWCF97aE-YJt",
        "colab_type": "code",
        "colab": {}
      },
      "source": [
        "drv.quit()"
      ],
      "execution_count": 0,
      "outputs": []
    },
    {
      "cell_type": "code",
      "metadata": {
        "id": "CG3sywnt-YJx",
        "colab_type": "code",
        "colab": {}
      },
      "source": [
        "listt = table.find_all('th') #항목이름\n",
        "listt2 = table.find_all('td') #항목내용"
      ],
      "execution_count": 0,
      "outputs": []
    },
    {
      "cell_type": "code",
      "metadata": {
        "collapsed": true,
        "id": "9MweRxQh-YJ0",
        "colab_type": "code",
        "colab": {},
        "outputId": "239066fb-5f18-4191-ce9f-271366bc5db9"
      },
      "source": [
        "drv.find_element_by_css_selector('tab1 > div.subTab2 > ul > li.btn > div > a:nth-child(2)').click()"
      ],
      "execution_count": 0,
      "outputs": [
        {
          "output_type": "error",
          "ename": "NoSuchElementException",
          "evalue": "Message: no such element: Unable to locate element: {\"method\":\"css selector\",\"selector\":\"tab1 > div.subTab2 > ul > li.btn > div > a:nth-child(2)\"}\n  (Session info: chrome=76.0.3809.132)\n",
          "traceback": [
            "\u001b[0;31m---------------------------------------------------------------------------\u001b[0m",
            "\u001b[0;31mNoSuchElementException\u001b[0m                    Traceback (most recent call last)",
            "\u001b[0;32m<ipython-input-77-cd82c26827ef>\u001b[0m in \u001b[0;36m<module>\u001b[0;34m\u001b[0m\n\u001b[0;32m----> 1\u001b[0;31m \u001b[0mdrv\u001b[0m\u001b[0;34m.\u001b[0m\u001b[0mfind_element_by_css_selector\u001b[0m\u001b[0;34m(\u001b[0m\u001b[0;34m'tab1 > div.subTab2 > ul > li.btn > div > a:nth-child(2)'\u001b[0m\u001b[0;34m)\u001b[0m\u001b[0;34m.\u001b[0m\u001b[0mclick\u001b[0m\u001b[0;34m(\u001b[0m\u001b[0;34m)\u001b[0m\u001b[0;34m\u001b[0m\u001b[0;34m\u001b[0m\u001b[0m\n\u001b[0m",
            "\u001b[0;32m//anaconda3/envs/deokenv/lib/python3.7/site-packages/selenium/webdriver/remote/webdriver.py\u001b[0m in \u001b[0;36mfind_element_by_css_selector\u001b[0;34m(self, css_selector)\u001b[0m\n\u001b[1;32m    596\u001b[0m             \u001b[0melement\u001b[0m \u001b[0;34m=\u001b[0m \u001b[0mdriver\u001b[0m\u001b[0;34m.\u001b[0m\u001b[0mfind_element_by_css_selector\u001b[0m\u001b[0;34m(\u001b[0m\u001b[0;34m'#foo'\u001b[0m\u001b[0;34m)\u001b[0m\u001b[0;34m\u001b[0m\u001b[0;34m\u001b[0m\u001b[0m\n\u001b[1;32m    597\u001b[0m         \"\"\"\n\u001b[0;32m--> 598\u001b[0;31m         \u001b[0;32mreturn\u001b[0m \u001b[0mself\u001b[0m\u001b[0;34m.\u001b[0m\u001b[0mfind_element\u001b[0m\u001b[0;34m(\u001b[0m\u001b[0mby\u001b[0m\u001b[0;34m=\u001b[0m\u001b[0mBy\u001b[0m\u001b[0;34m.\u001b[0m\u001b[0mCSS_SELECTOR\u001b[0m\u001b[0;34m,\u001b[0m \u001b[0mvalue\u001b[0m\u001b[0;34m=\u001b[0m\u001b[0mcss_selector\u001b[0m\u001b[0;34m)\u001b[0m\u001b[0;34m\u001b[0m\u001b[0;34m\u001b[0m\u001b[0m\n\u001b[0m\u001b[1;32m    599\u001b[0m \u001b[0;34m\u001b[0m\u001b[0m\n\u001b[1;32m    600\u001b[0m     \u001b[0;32mdef\u001b[0m \u001b[0mfind_elements_by_css_selector\u001b[0m\u001b[0;34m(\u001b[0m\u001b[0mself\u001b[0m\u001b[0;34m,\u001b[0m \u001b[0mcss_selector\u001b[0m\u001b[0;34m)\u001b[0m\u001b[0;34m:\u001b[0m\u001b[0;34m\u001b[0m\u001b[0;34m\u001b[0m\u001b[0m\n",
            "\u001b[0;32m//anaconda3/envs/deokenv/lib/python3.7/site-packages/selenium/webdriver/remote/webdriver.py\u001b[0m in \u001b[0;36mfind_element\u001b[0;34m(self, by, value)\u001b[0m\n\u001b[1;32m    976\u001b[0m         return self.execute(Command.FIND_ELEMENT, {\n\u001b[1;32m    977\u001b[0m             \u001b[0;34m'using'\u001b[0m\u001b[0;34m:\u001b[0m \u001b[0mby\u001b[0m\u001b[0;34m,\u001b[0m\u001b[0;34m\u001b[0m\u001b[0;34m\u001b[0m\u001b[0m\n\u001b[0;32m--> 978\u001b[0;31m             'value': value})['value']\n\u001b[0m\u001b[1;32m    979\u001b[0m \u001b[0;34m\u001b[0m\u001b[0m\n\u001b[1;32m    980\u001b[0m     \u001b[0;32mdef\u001b[0m \u001b[0mfind_elements\u001b[0m\u001b[0;34m(\u001b[0m\u001b[0mself\u001b[0m\u001b[0;34m,\u001b[0m \u001b[0mby\u001b[0m\u001b[0;34m=\u001b[0m\u001b[0mBy\u001b[0m\u001b[0;34m.\u001b[0m\u001b[0mID\u001b[0m\u001b[0;34m,\u001b[0m \u001b[0mvalue\u001b[0m\u001b[0;34m=\u001b[0m\u001b[0;32mNone\u001b[0m\u001b[0;34m)\u001b[0m\u001b[0;34m:\u001b[0m\u001b[0;34m\u001b[0m\u001b[0;34m\u001b[0m\u001b[0m\n",
            "\u001b[0;32m//anaconda3/envs/deokenv/lib/python3.7/site-packages/selenium/webdriver/remote/webdriver.py\u001b[0m in \u001b[0;36mexecute\u001b[0;34m(self, driver_command, params)\u001b[0m\n\u001b[1;32m    319\u001b[0m         \u001b[0mresponse\u001b[0m \u001b[0;34m=\u001b[0m \u001b[0mself\u001b[0m\u001b[0;34m.\u001b[0m\u001b[0mcommand_executor\u001b[0m\u001b[0;34m.\u001b[0m\u001b[0mexecute\u001b[0m\u001b[0;34m(\u001b[0m\u001b[0mdriver_command\u001b[0m\u001b[0;34m,\u001b[0m \u001b[0mparams\u001b[0m\u001b[0;34m)\u001b[0m\u001b[0;34m\u001b[0m\u001b[0;34m\u001b[0m\u001b[0m\n\u001b[1;32m    320\u001b[0m         \u001b[0;32mif\u001b[0m \u001b[0mresponse\u001b[0m\u001b[0;34m:\u001b[0m\u001b[0;34m\u001b[0m\u001b[0;34m\u001b[0m\u001b[0m\n\u001b[0;32m--> 321\u001b[0;31m             \u001b[0mself\u001b[0m\u001b[0;34m.\u001b[0m\u001b[0merror_handler\u001b[0m\u001b[0;34m.\u001b[0m\u001b[0mcheck_response\u001b[0m\u001b[0;34m(\u001b[0m\u001b[0mresponse\u001b[0m\u001b[0;34m)\u001b[0m\u001b[0;34m\u001b[0m\u001b[0;34m\u001b[0m\u001b[0m\n\u001b[0m\u001b[1;32m    322\u001b[0m             response['value'] = self._unwrap_value(\n\u001b[1;32m    323\u001b[0m                 response.get('value', None))\n",
            "\u001b[0;32m//anaconda3/envs/deokenv/lib/python3.7/site-packages/selenium/webdriver/remote/errorhandler.py\u001b[0m in \u001b[0;36mcheck_response\u001b[0;34m(self, response)\u001b[0m\n\u001b[1;32m    240\u001b[0m                 \u001b[0malert_text\u001b[0m \u001b[0;34m=\u001b[0m \u001b[0mvalue\u001b[0m\u001b[0;34m[\u001b[0m\u001b[0;34m'alert'\u001b[0m\u001b[0;34m]\u001b[0m\u001b[0;34m.\u001b[0m\u001b[0mget\u001b[0m\u001b[0;34m(\u001b[0m\u001b[0;34m'text'\u001b[0m\u001b[0;34m)\u001b[0m\u001b[0;34m\u001b[0m\u001b[0;34m\u001b[0m\u001b[0m\n\u001b[1;32m    241\u001b[0m             \u001b[0;32mraise\u001b[0m \u001b[0mexception_class\u001b[0m\u001b[0;34m(\u001b[0m\u001b[0mmessage\u001b[0m\u001b[0;34m,\u001b[0m \u001b[0mscreen\u001b[0m\u001b[0;34m,\u001b[0m \u001b[0mstacktrace\u001b[0m\u001b[0;34m,\u001b[0m \u001b[0malert_text\u001b[0m\u001b[0;34m)\u001b[0m\u001b[0;34m\u001b[0m\u001b[0;34m\u001b[0m\u001b[0m\n\u001b[0;32m--> 242\u001b[0;31m         \u001b[0;32mraise\u001b[0m \u001b[0mexception_class\u001b[0m\u001b[0;34m(\u001b[0m\u001b[0mmessage\u001b[0m\u001b[0;34m,\u001b[0m \u001b[0mscreen\u001b[0m\u001b[0;34m,\u001b[0m \u001b[0mstacktrace\u001b[0m\u001b[0;34m)\u001b[0m\u001b[0;34m\u001b[0m\u001b[0;34m\u001b[0m\u001b[0m\n\u001b[0m\u001b[1;32m    243\u001b[0m \u001b[0;34m\u001b[0m\u001b[0m\n\u001b[1;32m    244\u001b[0m     \u001b[0;32mdef\u001b[0m \u001b[0m_value_or_default\u001b[0m\u001b[0;34m(\u001b[0m\u001b[0mself\u001b[0m\u001b[0;34m,\u001b[0m \u001b[0mobj\u001b[0m\u001b[0;34m,\u001b[0m \u001b[0mkey\u001b[0m\u001b[0;34m,\u001b[0m \u001b[0mdefault\u001b[0m\u001b[0;34m)\u001b[0m\u001b[0;34m:\u001b[0m\u001b[0;34m\u001b[0m\u001b[0;34m\u001b[0m\u001b[0m\n",
            "\u001b[0;31mNoSuchElementException\u001b[0m: Message: no such element: Unable to locate element: {\"method\":\"css selector\",\"selector\":\"tab1 > div.subTab2 > ul > li.btn > div > a:nth-child(2)\"}\n  (Session info: chrome=76.0.3809.132)\n"
          ]
        }
      ]
    },
    {
      "cell_type": "markdown",
      "metadata": {
        "id": "W1LyV24L-YJ4",
        "colab_type": "text"
      },
      "source": [
        "## 사건검색내용 텍스트 추출"
      ]
    },
    {
      "cell_type": "markdown",
      "metadata": {
        "id": "SG-gCwFh-YJ4",
        "colab_type": "text"
      },
      "source": [
        "### 사건일반내용"
      ]
    },
    {
      "cell_type": "code",
      "metadata": {
        "id": "M8Eci06Z-YJ5",
        "colab_type": "code",
        "colab": {}
      },
      "source": [
        "#리스트 초기화 \n",
        "a1 = [] #접수일_Index3\n",
        "a2 = [] #개시결정일_Index6\n",
        "a3 = [] #채권이의마감일_Index7\n",
        "a4 = [] #변제계획인가일_Index8\n",
        "a5 = [] #면책결정일_Index9\n",
        "a6 = [] #절차폐지결정일_Index10"
      ],
      "execution_count": 0,
      "outputs": []
    },
    {
      "cell_type": "code",
      "metadata": {
        "id": "wGlxtEUs-YJ6",
        "colab_type": "code",
        "colab": {}
      },
      "source": [
        ""
      ],
      "execution_count": 0,
      "outputs": []
    },
    {
      "cell_type": "code",
      "metadata": {
        "id": "rxy6mU10-YJ-",
        "colab_type": "code",
        "colab": {}
      },
      "source": [
        "#공백제거\n",
        "a1 = [line.strip() for line in a1]\n",
        "a2 = [line.strip() for line in a2]\n",
        "a3 = [line.strip() for line in a3]\n",
        "a4 = [line.strip() for line in a4]\n",
        "a5 = [line.strip() for line in a5]\n",
        "a6 = [line.strip() for line in a6]"
      ],
      "execution_count": 0,
      "outputs": []
    },
    {
      "cell_type": "code",
      "metadata": {
        "id": "f3n_gK7E-YKI",
        "colab_type": "code",
        "colab": {},
        "outputId": "2a9d2b04-efde-43cb-a5b2-688ef7008e24"
      },
      "source": [
        "print(a1)"
      ],
      "execution_count": 0,
      "outputs": [
        {
          "output_type": "stream",
          "text": [
            "['2016.09.19', '2016.09.19', '2018.06.28', '2014.10.07', '2017.11.27', '2014.11.03', '2018.02.07', '2014.11.26', '2014.10.23', '2015.04.30']\n"
          ],
          "name": "stdout"
        }
      ]
    },
    {
      "cell_type": "markdown",
      "metadata": {
        "id": "Mde8nztv-YKU",
        "colab_type": "text"
      },
      "source": [
        "### 엑셀에 데이터에 입력시키기"
      ]
    },
    {
      "cell_type": "markdown",
      "metadata": {
        "id": "S9d-EWIi-YKW",
        "colab_type": "text"
      },
      "source": [
        "### 사건 진행내용 클릭!"
      ]
    },
    {
      "cell_type": "code",
      "metadata": {
        "id": "PFw5E35G-YKa",
        "colab_type": "code",
        "colab": {}
      },
      "source": [
        "html = drv.page_source\n",
        "soup = BeautifulSoup(html, 'html.parser')"
      ],
      "execution_count": 0,
      "outputs": []
    },
    {
      "cell_type": "code",
      "metadata": {
        "id": "vhoIgt6t-YKl",
        "colab_type": "code",
        "colab": {}
      },
      "source": [
        "#사건 진행내용은 순서가 매번 바뀌니 인덱스 값이 아니라 반복문 이용해서\n",
        "#공사가 있는지 없는지를 찾아야겠군"
      ],
      "execution_count": 0,
      "outputs": []
    },
    {
      "cell_type": "code",
      "metadata": {
        "collapsed": true,
        "id": "zGihSfRu-YKn",
        "colab_type": "code",
        "colab": {},
        "outputId": "4c8304fa-9549-4e5b-cf3f-fe2760b447b8"
      },
      "source": [
        "#사건진행내용 클릭\n",
        "element = drv.find_element_by_class_name(\"subTab2\")\n",
        "drv.execute_script(\"goMove('0');\", element)"
      ],
      "execution_count": 0,
      "outputs": [
        {
          "output_type": "error",
          "ename": "NameError",
          "evalue": "name 'time' is not defined",
          "traceback": [
            "\u001b[0;31m---------------------------------------------------------------------------\u001b[0m",
            "\u001b[0;31mNameError\u001b[0m                                 Traceback (most recent call last)",
            "\u001b[0;32m<ipython-input-75-a03650053736>\u001b[0m in \u001b[0;36m<module>\u001b[0;34m\u001b[0m\n\u001b[1;32m      1\u001b[0m \u001b[0melement\u001b[0m \u001b[0;34m=\u001b[0m \u001b[0mdrv\u001b[0m\u001b[0;34m.\u001b[0m\u001b[0mfind_element_by_class_name\u001b[0m\u001b[0;34m(\u001b[0m\u001b[0;34m\"subTab2\"\u001b[0m\u001b[0;34m)\u001b[0m\u001b[0;34m\u001b[0m\u001b[0;34m\u001b[0m\u001b[0m\n\u001b[1;32m      2\u001b[0m \u001b[0mdrv\u001b[0m\u001b[0;34m.\u001b[0m\u001b[0mexecute_script\u001b[0m\u001b[0;34m(\u001b[0m\u001b[0;34m\"goMove('0');\"\u001b[0m\u001b[0;34m,\u001b[0m \u001b[0melement\u001b[0m\u001b[0;34m)\u001b[0m\u001b[0;34m\u001b[0m\u001b[0;34m\u001b[0m\u001b[0m\n\u001b[0;32m----> 3\u001b[0;31m \u001b[0mtime\u001b[0m\u001b[0;34m.\u001b[0m\u001b[0msleep\u001b[0m\u001b[0;34m(\u001b[0m\u001b[0;36m5\u001b[0m\u001b[0;34m)\u001b[0m\u001b[0;34m\u001b[0m\u001b[0;34m\u001b[0m\u001b[0m\n\u001b[0m",
            "\u001b[0;31mNameError\u001b[0m: name 'time' is not defined"
          ]
        }
      ]
    },
    {
      "cell_type": "code",
      "metadata": {
        "id": "9Kn8fDeq-YKr",
        "colab_type": "code",
        "colab": {}
      },
      "source": [
        ""
      ],
      "execution_count": 0,
      "outputs": []
    },
    {
      "cell_type": "code",
      "metadata": {
        "collapsed": true,
        "id": "WrINgv_j-YK0",
        "colab_type": "code",
        "colab": {},
        "outputId": "ef51542d-321f-4e24-f61f-abff4b60ea58"
      },
      "source": [
        "print(soup)"
      ],
      "execution_count": 0,
      "outputs": [
        {
          "output_type": "stream",
          "text": [
            "<html lang=\"ko\"><head>\n",
            "<meta content=\"text/html; charset=utf-8\" http-equiv=\"Content-Type\"/>\n",
            "<meta content=\"width=device-width, initial-scale=1.0, maximum-scale=1.0, minimum-scale=1.0, user-scalable=no, target-densitydpi=medium-dpi\" name=\"viewport\"/>\n",
            "<meta content=\"IE=edge,chrome=1\" http-equiv=\"X-UA-Compatible\"/>\n",
            "<title>회생파산사건(WHP) 일반내용</title>\n",
            "<link href=\"/common/css/reset_safind.css\" rel=\"stylesheet\" type=\"text/css\"/>\n",
            "<link href=\"/common/css/layout_safind.css\" rel=\"stylesheet\" type=\"text/css\"/>\n",
            "<script language=\"javascript\" src=\"/common/js/jquery.js\" type=\"text/javascript\"></script>\n",
            "<script language=\"javascript\" src=\"/common/js/basic.js\" type=\"text/javascript\"></script>\n",
            "<script language=\"javascript\" src=\"/js/SfCommon.js\" type=\"text/javascript\"></script>\n",
            "<script language=\"javascript\" type=\"text/Javascript\">\n",
            "//<![CDATA[\n",
            "  window.document.oncontextmenu = new Function(\"return false\");\n",
            "//]]>\n",
            "</script>\n",
            "</head>\n",
            "<body style=\"\">\n",
            "<form action=\"\" method=\"post\" name=\"print_preview\">\n",
            "<input name=\"print_html\" type=\"hidden\" value=\"\"/>\n",
            "</form>\n",
            "<div class=\"contentIn\">\n",
            "<h1 class=\"title\">사건번호로 검색</h1>\n",
            "<div class=\"tab\">\n",
            "<!--  Tab (사건번호로조회/공인인증서검색) -->\n",
            "<ul class=\"tabTitle\">\n",
            "<li class=\"tab1 active first\" id=\"btnSafindTab\"><a class=\"active\" href=\"#\" tabindex=\"1\">사건번호로 검색</a></li>\n",
            "<li class=\"tab2 mhid\" id=\"btnGongInTab\" onkeypress=\"if(event.keyCode == 13){tabEnter('gonginGo');}\"><a href=\"#\" tabindex=\"1\">공인인증서로 검색</a></li>\n",
            "</ul>\n",
            "<script language=\"javascript\" src=\"/js/sfr/sfrUtil.js\" type=\"text/javascript\"></script>\n",
            "<script language=\"javascript\" src=\"/js/sfr/sfr_inc_new.js\" type=\"text/javascript\"></script>\n",
            "<script language=\"JavaScript\" type=\"text/JavaScript\">\n",
            "  //<![CDATA[\n",
            "\n",
            "  //소스보기 제어\n",
            "  window.document.oncontextmenu = new Function(\"return false\");\n",
            "\n",
            "//]]>\n",
            "</script>\n",
            "<form action=\"\" id=\"sanoform2\" method=\"post\" name=\"sanoform2\">\n",
            "<input name=\"cmd\" type=\"hidden\" value=\"\"/>\n",
            "<input name=\"sch_sa_gbn\" type=\"hidden\" value=\"\"/>\n",
            "<input name=\"sa_serial\" type=\"hidden\" value=\"\"/>\n",
            "<input name=\"sa_year\" type=\"hidden\" value=\"\"/>\n",
            "<input name=\"ds_nm\" type=\"hidden\" value=\"\"/>\n",
            "<input name=\"link\" type=\"hidden\" value=\"N\"/>\n",
            "<input name=\"gongYn\" type=\"hidden\" value=\"Y\"/>\n",
            "<input name=\"gongListLinkYn\" type=\"hidden\" value=\"Y\"/>\n",
            "<input name=\"sch_bub_cd\" type=\"hidden\" value=\"\"/>\n",
            "<input name=\"sch_bub_nm\" type=\"hidden\" value=\"\"/>\n",
            "<input name=\"auth\" type=\"hidden\" value=\"\"/>\n",
            "</form>\n",
            "<form action=\"/sf/servlet/SFSuperSvl\" id=\"gonginform\" method=\"post\" name=\"gonginform\">\n",
            "<input name=\"cmd\" type=\"hidden\" value=\"cm.SFCM02s05Cmd\"/>\n",
            "<input name=\"initChk\" type=\"hidden\" value=\"Y\"/>\n",
            "</form>\n",
            "<form action=\"/sf/servlet/SFSuperSvl\" id=\"logoutform\" method=\"post\" name=\"logoutform\">\n",
            "<input name=\"cmd\" type=\"hidden\" value=\"cm.SFCM02s06Cmd\"/>\n",
            "<input name=\"gongIn\" type=\"hidden\" value=\"Y\"/>\n",
            "</form>\n",
            "<script language=\"JavaScript\" type=\"text/JavaScript\">\n",
            "//<![CDATA[\n",
            "    var vGong = \"\";\n",
            "    if ( \"Y\" == vGong ){ \n",
            "      $(\"#btnSafindTab\").attr(\"class\", \"first\");\n",
            "      $(\"#btnGongInTab\").attr(\"class\", \"active mhid\");\n",
            "    }\n",
            "//]]>\n",
            "</script>\n",
            "<!--  tabContents -->\n",
            "<div class=\"tabContents\" id=\"tabContents\">\n",
            "<!-- tab1 -->\n",
            "<div class=\"tabContent active\" id=\"tab1\">\n",
            "<!--  bannerHor2  -->\n",
            "<div class=\"bannerHor2\">\n",
            "<ul>\n",
            "<li><a href=\"http://ecfs.scourt.go.kr\" tabindex=\"1\" target=\"_blank\"><img alt=\"본 사이트에서 제공된 사건정보는 법적인 효력이 없으니, 참고자료로만 활용하시기 바랍니다. 민사, 특허 등 전자소송으로 진행되는 사건에 대해서는 전자소송홈페이지를 이용하시면 판결문이나 사건기록을 모두 인터넷으로 보실 수 있습니다.(새창열림)\" src=\"/common/images/banner_01.png\"/></a></li>\n",
            "</ul>\n",
            "</div>\n",
            "<!--  //bannerHor2 -->\n",
            "<!-- subTab (사건일반내용/사건진행내용) -->\n",
            "<h1 class=\"title\">사건일반내용</h1>\n",
            "<div class=\"subTab2\">\n",
            "<ul class=\"subTabTitle2\">\n",
            "<li class=\"subTab1 active first\"><a class=\"active\" href=\"#\" tabindex=\"1\">사건일반내용</a></li>\n",
            "<li class=\"subTab2\" onclick=\"javascript:goMove('0');\" onkeypress=\"if(event.keyCode == 13){goMove('0');}\"><a href=\"#\" tabindex=\"1\">사건진행내용</a></li>\n",
            "<li class=\"btn\">\n",
            "<div>\n",
            "<a class=\"blueBtn\" href=\"#\" onclick=\"javascript:printPreview('scourt');\" title=\"인쇄하기(새창열림)\">인쇄하기</a>\n",
            "<a class=\"blueBtn\" href=\"/sf/mysafind.jsp?theme=scourt\">나의 사건 검색하기</a>\n",
            "</div>\n",
            "</li>\n",
            "</ul>\n",
            "<!--  tabContents -->\n",
            "<div class=\"subTabContents\">\n",
            "<!-- tab1 -->\n",
            "<div class=\"subTabContent active\" id=\"subTab1\">\n",
            "<div class=\"infoBox\">\n",
            "<div class=\"conTextBul\">\n",
            "<span class=\"blue\">사건번호 : 인천지방법원 2015개회37355</span>\n",
            "</div>\n",
            "</div>\n",
            "<div class=\"titleH2\">기본내용\n",
            "\n",
            "              <a class=\"fr blueBtn\" href=\"#\" onclick=\"javascript:goLocation('http://www.scourt.go.kr/BubLocLink.jsp?bub_cd=000240');\" title=\"청사배치(새창열림)\">청사배치</a>\n",
            "</div>\n",
            "<!-- tableVer  -->\n",
            "<table class=\"tableVer\" summary=\"사건의 기본내용을 조회 합니다.\">\n",
            "<caption>기본내용</caption>\n",
            "<tbody><tr>\n",
            "<th>사건번호</th>\n",
            "<td> 2015개회37355</td>\n",
            "<th>사건명</th>\n",
            "<td>  개인회생</td>\n",
            "</tr>\n",
            "<tr>\n",
            "<th>재판부</th>\n",
            "<td> 제4회생단독 (전화:[인가전]860-1815 [인가후]860-1857)</td>\n",
            "<th>접수일</th>\n",
            "<td> 2015.04.30</td>\n",
            "</tr>\n",
            "<tr>\n",
            "<th>채무자</th>\n",
            "<td> 강O연</td>\n",
            "<th>회생위원</th>\n",
            "<td> 박종열</td>\n",
            "</tr>\n",
            "<tr>\n",
            "<th>개시결정일</th>\n",
            "<td> 2015.07.07</td>\n",
            "<th>채권이의마감일</th>\n",
            "<td> 2015.08.21</td>\n",
            "</tr>\n",
            "<tr>\n",
            "<th>변제계획인가일</th>\n",
            "<td> 2015.12.29</td>\n",
            "<th>면책결정일</th>\n",
            "<td> </td>\n",
            "</tr>\n",
            "<tr>\n",
            "<th>절차폐지결정일</th>\n",
            "<td> </td>\n",
            "<th>종국결과</th>\n",
            "<td>  </td>\n",
            "</tr>\n",
            "<tr>\n",
            "<th colspan=\"2\">변제현황조회</th>\n",
            "<td colspan=\"2\"><a class=\"blueBtn mhid\" href=\"#\" onclick=\"goRepayStatus();\" title=\"변제현황조회(새창열림)\">변제현황조회</a><div class=\"phid\">모바일 기기에서 이용 불가(PC의 경우 브라우저 크기 조정 후 사용가능)</div></td>\n",
            "</tr>\n",
            "<tr>\n",
            "<th colspan=\"2\">송달료, 보관금, 종결에 따른 잔액조회</th>\n",
            "<td colspan=\"2\">사건이 종결되지 않았으므로 송달료, 보관금 조회가 불가능합니다.</td>\n",
            "</tr>\n",
            "</tbody></table>\n",
            "<!-- //tableVer  -->\n",
            "<div class=\"titleH2\">최근기일내용\n",
            "\n",
            "                <a class=\"fr blueBtn\" href=\"#\" onclick=\"javascript:goMove('1');\">상세보기</a>\n",
            "</div>\n",
            "<!-- tableHor-->\n",
            "<table class=\"tableHor\" summary=\"최근기일내용 4건만 표시 됩니다.\">\n",
            "<caption>최근기일내용</caption>\n",
            "<thead>\n",
            "<tr>\n",
            "<th scope=\"col\">일자</th>\n",
            "<th scope=\"col\">시각</th>\n",
            "<th scope=\"col\">기일구분</th>\n",
            "<th scope=\"col\">기일장소</th>\n",
            "<th scope=\"col\">결과</th>\n",
            "</tr>\n",
            "</thead>\n",
            "<tbody>\n",
            "<tr>\n",
            "<td>2015.09.21</td>\n",
            "<td>16:00</td>\n",
            "<td> 집회기일</td>\n",
            "<td> 제415호 법정</td>\n",
            "<td> </td>\n",
            "</tr>\n",
            "</tbody>\n",
            "</table>\n",
            "<div class=\"conTextBul\">최근 기일 순으로 일부만 보입니다. 반드시 상세보기로 확인하시기 바랍니다.</div>\n",
            "<div class=\"titleH2\">최근 제출서류 접수내용\n",
            "\n",
            "                <a class=\"fr blueBtn\" href=\"#\" onclick=\"javascript:goMove('3');\">상세보기</a>\n",
            "</div>\n",
            "<!-- tableHor-->\n",
            "<table class=\"tableHor\" summary=\"최근 제출서류 4건만 표시 됩니다.\">\n",
            "<caption>최근 제출서류 접수내용</caption>\n",
            "<thead>\n",
            "<tr>\n",
            "<th scope=\"col\">일 자</th>\n",
            "<th scope=\"col\">내 용</th>\n",
            "</tr>\n",
            "</thead>\n",
            "<tbody>\n",
            "<tr>\n",
            "<td>2016.11.11</td>\n",
            "<td class=\"tit\">채권자 국민행복기금 채권자계좌번호신고서 제출</td>\n",
            "</tr>\n",
            "<tr>\n",
            "<td>2017.04.07</td>\n",
            "<td class=\"tit\">채무자 강O연 변제수행 납입증명 신청서 제출</td>\n",
            "</tr>\n",
            "<tr>\n",
            "<td>2018.08.07</td>\n",
            "<td class=\"tit\">채무자 강O연 열람및복사신청 제출</td>\n",
            "</tr>\n",
            "<tr>\n",
            "<td>2019.07.17</td>\n",
            "<td class=\"tit\">채권자 주식회사 인케어파트너스대부 채권자 변경 및 계좌번호변경 제출</td>\n",
            "</tr>\n",
            "</tbody>\n",
            "</table>\n",
            "<div class=\"conTextBul\">최근 제출서류 순으로 일부만 보입니다. 반드시 상세보기로 확인하시기 바랍니다.</div>\n",
            "<div class=\"titleH2\">관련사건내용</div>\n",
            "<!-- tableHor-->\n",
            "<table class=\"tableHor\" summary=\"관련사건내용을 조회 합니다.\">\n",
            "<caption>관련사건내용</caption>\n",
            "<thead>\n",
            "<tr>\n",
            "<th scope=\"col\">법 원</th>\n",
            "<th scope=\"col\">사건번호</th>\n",
            "<th scope=\"col\">결 과</th>\n",
            "</tr>\n",
            "</thead>\n",
            "<tbody>\n",
            "<tr>\n",
            "<td> 인천지방법원</td>\n",
            "<td> <a class=\"blue\" href=\"#\" onclick=\"javascript:goLinkMove('000240','인천지법','whp.SFWHP01s01Cmd','2015','개회','0037348','hEVWlDP0AyH1GVnk452ojePVw3BXk3grZ9ZjSWhZko0=');\">2015개회37348</a></td>\n",
            "<td> 개인회생사건</td>\n",
            "</tr>\n",
            "</tbody>\n",
            "</table>\n",
            "<div class=\"titleH2\">당사자내용</div>\n",
            "<!-- tableHor-->\n",
            "<table class=\"tableHor\" summary=\"당사자내용을 조회 합니다.\">\n",
            "<caption>당사자내용</caption>\n",
            "<thead>\n",
            "<tr>\n",
            "<th scope=\"col\">구 분</th>\n",
            "<th scope=\"col\">이 름</th>\n",
            "<th scope=\"col\">종국결과</th>\n",
            "</tr>\n",
            "</thead>\n",
            "<tbody>\n",
            "<tr>\n",
            "<td> 채권자</td>\n",
            "<td class=\"tit\"> 채권번호1. 농협은행주식회사(강화군지부) </td>\n",
            "<td> </td>\n",
            "</tr>\n",
            "<tr>\n",
            "<td> 채권자</td>\n",
            "<td class=\"tit\"> 채권번호1-1. 한국장학재단 </td>\n",
            "<td> </td>\n",
            "</tr>\n",
            "<tr>\n",
            "<td> 채권자</td>\n",
            "<td class=\"tit\"> 채권번호2. 한국장학재단 </td>\n",
            "<td> </td>\n",
            "</tr>\n",
            "<tr>\n",
            "<td> 채권자</td>\n",
            "<td class=\"tit\"> 채권번호3. 한국장학재단 </td>\n",
            "<td> </td>\n",
            "</tr>\n",
            "<tr>\n",
            "<td> 채권자</td>\n",
            "<td class=\"tit\"> 채권번호4. 한국장학재단 </td>\n",
            "<td> </td>\n",
            "</tr>\n",
            "<tr>\n",
            "<td> 채권자</td>\n",
            "<td class=\"tit\"> 채권번호5. 한국장학재단 </td>\n",
            "<td> </td>\n",
            "</tr>\n",
            "<tr>\n",
            "<td> 채권자</td>\n",
            "<td class=\"tit\"> 채권번호6. 한국장학재단 </td>\n",
            "<td> </td>\n",
            "</tr>\n",
            "<tr>\n",
            "<td> 채권자</td>\n",
            "<td class=\"tit\"> 채권번호7. 한국장학재단 </td>\n",
            "<td> </td>\n",
            "</tr>\n",
            "<tr>\n",
            "<td> 채권자</td>\n",
            "<td class=\"tit\"> 채권번호8. 한국장학재단 </td>\n",
            "<td> </td>\n",
            "</tr>\n",
            "<tr>\n",
            "<td> 채권자</td>\n",
            "<td class=\"tit\"> 채권번호9. 한국장학재단 </td>\n",
            "<td> </td>\n",
            "</tr>\n",
            "<tr>\n",
            "<td> 채권자</td>\n",
            "<td class=\"tit\"> 채권번호10. 한국장학재단 </td>\n",
            "<td> </td>\n",
            "</tr>\n",
            "<tr>\n",
            "<td> 채권자</td>\n",
            "<td class=\"tit\"> 채권번호11. 한국장학재단 </td>\n",
            "<td> </td>\n",
            "</tr>\n",
            "<tr>\n",
            "<td> 채권자</td>\n",
            "<td class=\"tit\"> 채권번호12. 한국장학재단 </td>\n",
            "<td> </td>\n",
            "</tr>\n",
            "<tr>\n",
            "<td> 채권자</td>\n",
            "<td class=\"tit\"> 채권번호13. 한국장학재단 </td>\n",
            "<td> </td>\n",
            "</tr>\n",
            "<tr>\n",
            "<td> 채권자</td>\n",
            "<td class=\"tit\"> 채권번호14. (주)국민행복기금 </td>\n",
            "<td> </td>\n",
            "</tr>\n",
            "<tr>\n",
            "<td> 채권자</td>\n",
            "<td class=\"tit\"> 채권번호15. (주)미래크레디트대부 대표이사 일본국인 나카무라마사키</td>\n",
            "<td> </td>\n",
            "</tr>\n",
            "<tr>\n",
            "<td> 채권자</td>\n",
            "<td class=\"tit\"> 채권번호16. (주)밀리언캐쉬대부 대표이사 강길훈</td>\n",
            "<td> </td>\n",
            "</tr>\n",
            "<tr>\n",
            "<td> 채권자</td>\n",
            "<td class=\"tit\"> 채권번호1-2. 한국주택금융공사 </td>\n",
            "<td> </td>\n",
            "</tr>\n",
            "<tr>\n",
            "<td> 채권자</td>\n",
            "<td class=\"tit\"> 채권번호17. (주)인케어파트너스대부 </td>\n",
            "<td> </td>\n",
            "</tr>\n",
            "<tr>\n",
            "<td> 채무자</td>\n",
            "<td class=\"tit\"> 1. 강O연 </td>\n",
            "<td> </td>\n",
            "</tr>\n",
            "</tbody>\n",
            "</table>\n",
            "<div class=\"btnBox\"><a class=\"topBtn\" href=\"#top\">Top</a></div>\n",
            "</div> <!-- subTab1 -->\n",
            "</div> <!-- tabContents -->\n",
            "</div> <!-- subTab2 -->\n",
            "</div> <!-- tab1 -->\n",
            "</div> <!-- tabContents -->\n",
            "</div> <!-- tab -->\n",
            "</div> <!-- contentIn -->\n",
            "<form action=\"/sf/servlet/SFSuperSvl\" method=\"post\" name=\"goForm\">\n",
            "<input name=\"cmd\" type=\"hidden\" value=\"whp.SFWHP02s01Cmd\"/>\n",
            "<input name=\"sch_bub_cd\" type=\"hidden\" value=\"000240\"/><!--2015.05.19 [15A-SF-0030] DB에 있는값으로 셋팅- 권성희-->\n",
            "<input name=\"sch_bub_nm\" type=\"hidden\" value=\"인천지법\"/>\n",
            "<input name=\"sa_year\" type=\"hidden\" value=\"2015\"/>\n",
            "<input name=\"sch_sa_gbn\" type=\"hidden\" value=\"개회\"/>\n",
            "<input name=\"sa_serial\" type=\"hidden\" value=\"37355\"/>\n",
            "<input name=\"ds_nm\" type=\"hidden\" value=\"강소연\"/>\n",
            "<input name=\"link\" type=\"hidden\" value=\"N\"/>\n",
            "<input name=\"type\" type=\"hidden\" value=\"\"/>\n",
            "<input name=\"theme\" type=\"hidden\" value=\"scourt\"/>\n",
            "<input name=\"mode\" type=\"hidden\" value=\"\"/>\n",
            "<input name=\"gongYn\" type=\"hidden\" value=\"\"/>\n",
            "<input name=\"mysafindYn\" type=\"hidden\" value=\"Y\"/>\n",
            "<input name=\"auth\" type=\"hidden\" value=\"pdrb07YaFQ+MsthnWqukMfluy5SF9m8O1sWNv9zuaGo=\"/>\n",
            "</form>\n",
            "<form action=\"/sf/servlet/SFSuperSvl\" method=\"post\" name=\"goLinkForm\">\n",
            "<input name=\"cmd\" type=\"hidden\" value=\"\"/>\n",
            "<input name=\"sch_bub_cd\" type=\"hidden\" value=\"\"/>\n",
            "<input name=\"sch_bub_nm\" type=\"hidden\" value=\"\"/>\n",
            "<input name=\"sa_year\" type=\"hidden\" value=\"\"/>\n",
            "<input name=\"sch_sa_gbn\" type=\"hidden\" value=\"\"/>\n",
            "<input name=\"sa_serial\" type=\"hidden\" value=\"\"/>\n",
            "<input name=\"ds_nm\" type=\"hidden\" value=\"강소연\"/>\n",
            "<input name=\"link\" type=\"hidden\" value=\"N\"/>\n",
            "<input name=\"type\" type=\"hidden\" value=\"\"/>\n",
            "<input name=\"theme\" type=\"hidden\" value=\"scourt\"/>\n",
            "<input name=\"mode\" type=\"hidden\" value=\"\"/>\n",
            "<input name=\"gongYn\" type=\"hidden\" value=\"\"/>\n",
            "<input name=\"mysafindYn\" type=\"hidden\" value=\"Y\"/>\n",
            "<input name=\"linkValue\" type=\"hidden\" value=\"whp.SFWHP01s01Cmd#000240#인천지법#2015#개회#37355#강소연#20152530037355#N\"/>\n",
            "<input name=\"auth\" type=\"hidden\" value=\"\"/>\n",
            "</form>\n",
            "<form action=\"/sf/whp/PopupRepayStatus.jsp\" method=\"post\" name=\"goRepayStatusForm\">\n",
            "<input name=\"sch_bub_cd\" type=\"hidden\" value=\"000240\"/> <!--2015.05.19 [15A-SF-0030] DB에 있는값으로 셋팅- 권성희-->\n",
            "<input name=\"sch_bub_nm\" type=\"hidden\" value=\"인천지법\"/>\n",
            "<input name=\"sa_year\" type=\"hidden\" value=\"2015\"/>\n",
            "<input name=\"sch_sa_gbn\" type=\"hidden\" value=\"개회\"/>\n",
            "<input name=\"sa_serial\" type=\"hidden\" value=\"37355\"/>\n",
            "<input name=\"bank_cd\" type=\"hidden\" value=\"\"/>\n",
            "<input name=\"acno\" type=\"hidden\" value=\"\"/>\n",
            "<input name=\"ds_nm\" type=\"hidden\" value=\"강소연\"/>\n",
            "<input name=\"theme\" type=\"hidden\" value=\"scourt\"/>\n",
            "</form>\n",
            "<script language=\"javascript\" type=\"text/javascript\">\n",
            "//<![CDATA[\n",
            "function goMove(type)\n",
            "{\n",
            "    document.goForm.type.value = type;\n",
            "    document.goForm.submit();\n",
            "}\n",
            "\n",
            "//  홈페이지 사건검색에서 호출함수에 대한 파라미터 방식 변경\n",
            "function goLinkMove(bub_cd, bub_nm, cmd, sa_year, sa_gbn, sa_serial, auth)\n",
            "{\n",
            "    document.goLinkForm.cmd.value = cmd;\n",
            "    document.goLinkForm.sch_bub_cd.value = bub_cd;\n",
            "    document.goLinkForm.sch_bub_nm.value = bub_nm;\n",
            "    document.goLinkForm.sa_year.value = sa_year;\n",
            "    document.goLinkForm.sch_sa_gbn.value = sa_gbn;\n",
            "    document.goLinkForm.sa_serial.value = sa_serial;\n",
            "    document.goLinkForm.link.value = \"Y\";\n",
            "    document.goLinkForm.auth.value = auth;\n",
            "    document.goLinkForm.submit();\n",
            "}\n",
            "\n",
            "\n",
            "function goCheckReturn() {\n",
            "  goCheckBalance('000240',\n",
            "                 '2015',\n",
            "                 '개회',\n",
            "                 '37355',\n",
            "                 '강소연',\n",
            "                 '제4회생단독',\n",
            "                 '[인가전]860-1815 [인가후]860-1857',\n",
            "                 'scourt'\n",
            "                );\n",
            "}\n",
            "\n",
            "\n",
            "\n",
            "function goRepayStatus() {\n",
            "    var repayStatus_window;\n",
            "    \n",
            "    repayStatus_window = window.open(\"\",'repayStatus_window','width=690px,height=770px,scrollbars=yes,location=no,menubar=no');\n",
            "    goRepayStatusForm.target = \"repayStatus_window\";\n",
            "    goRepayStatusForm.submit();\n",
            "}\n",
            "\n",
            "\n",
            "\n",
            "function repayKjDayNotMonth(){\n",
            "  var msg = \"변제현황조회 서비스를 이용할 수 없습니다.\\n\" +\n",
            "            \"[ 변제현황조회가 실행되는 조건]\\n\" +\n",
            "            \"회생계획인가결정이 내려지고 채무자가 회생계좌로 1회 이상 변제금을 입금하였고 재판부(회생위원)에서 채권자 은행계좌로 최초 변제를 수행한 사건\";\n",
            "  alert (msg);\n",
            "}\n",
            "\n",
            "//]]>\n",
            "</script>\n",
            "</body></html>\n"
          ],
          "name": "stdout"
        }
      ]
    },
    {
      "cell_type": "code",
      "metadata": {
        "collapsed": true,
        "id": "eAGfCaYu-YK5",
        "colab_type": "code",
        "colab": {},
        "outputId": "cdb3c288-8684-499d-da21-3d38a0da0a26"
      },
      "source": [
        "#사건검색내역 클릭\n",
        "drv.find_element_by_xpath(\"//*[@id='resultList']/table/tbody/tr/td[4]/b/a\").click()"
      ],
      "execution_count": 0,
      "outputs": [
        {
          "output_type": "error",
          "ename": "NoSuchElementException",
          "evalue": "Message: no such element: Unable to locate element: {\"method\":\"xpath\",\"selector\":\"//*[@id='resultList']/table/tbody/tr/td[4]/b/a\"}\n  (Session info: chrome=76.0.3809.132)\n",
          "traceback": [
            "\u001b[0;31m---------------------------------------------------------------------------\u001b[0m",
            "\u001b[0;31mNoSuchElementException\u001b[0m                    Traceback (most recent call last)",
            "\u001b[0;32m<ipython-input-76-8da76c0faae6>\u001b[0m in \u001b[0;36m<module>\u001b[0;34m\u001b[0m\n\u001b[1;32m      1\u001b[0m \u001b[0;31m#사건검색내역 클릭\u001b[0m\u001b[0;34m\u001b[0m\u001b[0;34m\u001b[0m\u001b[0;34m\u001b[0m\u001b[0m\n\u001b[0;32m----> 2\u001b[0;31m \u001b[0mdrv\u001b[0m\u001b[0;34m.\u001b[0m\u001b[0mfind_element_by_xpath\u001b[0m\u001b[0;34m(\u001b[0m\u001b[0;34m\"//*[@id='resultList']/table/tbody/tr/td[4]/b/a\"\u001b[0m\u001b[0;34m)\u001b[0m\u001b[0;34m.\u001b[0m\u001b[0mclick\u001b[0m\u001b[0;34m(\u001b[0m\u001b[0;34m)\u001b[0m\u001b[0;34m\u001b[0m\u001b[0;34m\u001b[0m\u001b[0m\n\u001b[0m",
            "\u001b[0;32m//anaconda3/envs/deokenv/lib/python3.7/site-packages/selenium/webdriver/remote/webdriver.py\u001b[0m in \u001b[0;36mfind_element_by_xpath\u001b[0;34m(self, xpath)\u001b[0m\n\u001b[1;32m    392\u001b[0m             \u001b[0melement\u001b[0m \u001b[0;34m=\u001b[0m \u001b[0mdriver\u001b[0m\u001b[0;34m.\u001b[0m\u001b[0mfind_element_by_xpath\u001b[0m\u001b[0;34m(\u001b[0m\u001b[0;34m'//div/td[1]'\u001b[0m\u001b[0;34m)\u001b[0m\u001b[0;34m\u001b[0m\u001b[0;34m\u001b[0m\u001b[0m\n\u001b[1;32m    393\u001b[0m         \"\"\"\n\u001b[0;32m--> 394\u001b[0;31m         \u001b[0;32mreturn\u001b[0m \u001b[0mself\u001b[0m\u001b[0;34m.\u001b[0m\u001b[0mfind_element\u001b[0m\u001b[0;34m(\u001b[0m\u001b[0mby\u001b[0m\u001b[0;34m=\u001b[0m\u001b[0mBy\u001b[0m\u001b[0;34m.\u001b[0m\u001b[0mXPATH\u001b[0m\u001b[0;34m,\u001b[0m \u001b[0mvalue\u001b[0m\u001b[0;34m=\u001b[0m\u001b[0mxpath\u001b[0m\u001b[0;34m)\u001b[0m\u001b[0;34m\u001b[0m\u001b[0;34m\u001b[0m\u001b[0m\n\u001b[0m\u001b[1;32m    395\u001b[0m \u001b[0;34m\u001b[0m\u001b[0m\n\u001b[1;32m    396\u001b[0m     \u001b[0;32mdef\u001b[0m \u001b[0mfind_elements_by_xpath\u001b[0m\u001b[0;34m(\u001b[0m\u001b[0mself\u001b[0m\u001b[0;34m,\u001b[0m \u001b[0mxpath\u001b[0m\u001b[0;34m)\u001b[0m\u001b[0;34m:\u001b[0m\u001b[0;34m\u001b[0m\u001b[0;34m\u001b[0m\u001b[0m\n",
            "\u001b[0;32m//anaconda3/envs/deokenv/lib/python3.7/site-packages/selenium/webdriver/remote/webdriver.py\u001b[0m in \u001b[0;36mfind_element\u001b[0;34m(self, by, value)\u001b[0m\n\u001b[1;32m    976\u001b[0m         return self.execute(Command.FIND_ELEMENT, {\n\u001b[1;32m    977\u001b[0m             \u001b[0;34m'using'\u001b[0m\u001b[0;34m:\u001b[0m \u001b[0mby\u001b[0m\u001b[0;34m,\u001b[0m\u001b[0;34m\u001b[0m\u001b[0;34m\u001b[0m\u001b[0m\n\u001b[0;32m--> 978\u001b[0;31m             'value': value})['value']\n\u001b[0m\u001b[1;32m    979\u001b[0m \u001b[0;34m\u001b[0m\u001b[0m\n\u001b[1;32m    980\u001b[0m     \u001b[0;32mdef\u001b[0m \u001b[0mfind_elements\u001b[0m\u001b[0;34m(\u001b[0m\u001b[0mself\u001b[0m\u001b[0;34m,\u001b[0m \u001b[0mby\u001b[0m\u001b[0;34m=\u001b[0m\u001b[0mBy\u001b[0m\u001b[0;34m.\u001b[0m\u001b[0mID\u001b[0m\u001b[0;34m,\u001b[0m \u001b[0mvalue\u001b[0m\u001b[0;34m=\u001b[0m\u001b[0;32mNone\u001b[0m\u001b[0;34m)\u001b[0m\u001b[0;34m:\u001b[0m\u001b[0;34m\u001b[0m\u001b[0;34m\u001b[0m\u001b[0m\n",
            "\u001b[0;32m//anaconda3/envs/deokenv/lib/python3.7/site-packages/selenium/webdriver/remote/webdriver.py\u001b[0m in \u001b[0;36mexecute\u001b[0;34m(self, driver_command, params)\u001b[0m\n\u001b[1;32m    319\u001b[0m         \u001b[0mresponse\u001b[0m \u001b[0;34m=\u001b[0m \u001b[0mself\u001b[0m\u001b[0;34m.\u001b[0m\u001b[0mcommand_executor\u001b[0m\u001b[0;34m.\u001b[0m\u001b[0mexecute\u001b[0m\u001b[0;34m(\u001b[0m\u001b[0mdriver_command\u001b[0m\u001b[0;34m,\u001b[0m \u001b[0mparams\u001b[0m\u001b[0;34m)\u001b[0m\u001b[0;34m\u001b[0m\u001b[0;34m\u001b[0m\u001b[0m\n\u001b[1;32m    320\u001b[0m         \u001b[0;32mif\u001b[0m \u001b[0mresponse\u001b[0m\u001b[0;34m:\u001b[0m\u001b[0;34m\u001b[0m\u001b[0;34m\u001b[0m\u001b[0m\n\u001b[0;32m--> 321\u001b[0;31m             \u001b[0mself\u001b[0m\u001b[0;34m.\u001b[0m\u001b[0merror_handler\u001b[0m\u001b[0;34m.\u001b[0m\u001b[0mcheck_response\u001b[0m\u001b[0;34m(\u001b[0m\u001b[0mresponse\u001b[0m\u001b[0;34m)\u001b[0m\u001b[0;34m\u001b[0m\u001b[0;34m\u001b[0m\u001b[0m\n\u001b[0m\u001b[1;32m    322\u001b[0m             response['value'] = self._unwrap_value(\n\u001b[1;32m    323\u001b[0m                 response.get('value', None))\n",
            "\u001b[0;32m//anaconda3/envs/deokenv/lib/python3.7/site-packages/selenium/webdriver/remote/errorhandler.py\u001b[0m in \u001b[0;36mcheck_response\u001b[0;34m(self, response)\u001b[0m\n\u001b[1;32m    240\u001b[0m                 \u001b[0malert_text\u001b[0m \u001b[0;34m=\u001b[0m \u001b[0mvalue\u001b[0m\u001b[0;34m[\u001b[0m\u001b[0;34m'alert'\u001b[0m\u001b[0;34m]\u001b[0m\u001b[0;34m.\u001b[0m\u001b[0mget\u001b[0m\u001b[0;34m(\u001b[0m\u001b[0;34m'text'\u001b[0m\u001b[0;34m)\u001b[0m\u001b[0;34m\u001b[0m\u001b[0;34m\u001b[0m\u001b[0m\n\u001b[1;32m    241\u001b[0m             \u001b[0;32mraise\u001b[0m \u001b[0mexception_class\u001b[0m\u001b[0;34m(\u001b[0m\u001b[0mmessage\u001b[0m\u001b[0;34m,\u001b[0m \u001b[0mscreen\u001b[0m\u001b[0;34m,\u001b[0m \u001b[0mstacktrace\u001b[0m\u001b[0;34m,\u001b[0m \u001b[0malert_text\u001b[0m\u001b[0;34m)\u001b[0m\u001b[0;34m\u001b[0m\u001b[0;34m\u001b[0m\u001b[0m\n\u001b[0;32m--> 242\u001b[0;31m         \u001b[0;32mraise\u001b[0m \u001b[0mexception_class\u001b[0m\u001b[0;34m(\u001b[0m\u001b[0mmessage\u001b[0m\u001b[0;34m,\u001b[0m \u001b[0mscreen\u001b[0m\u001b[0;34m,\u001b[0m \u001b[0mstacktrace\u001b[0m\u001b[0;34m)\u001b[0m\u001b[0;34m\u001b[0m\u001b[0;34m\u001b[0m\u001b[0m\n\u001b[0m\u001b[1;32m    243\u001b[0m \u001b[0;34m\u001b[0m\u001b[0m\n\u001b[1;32m    244\u001b[0m     \u001b[0;32mdef\u001b[0m \u001b[0m_value_or_default\u001b[0m\u001b[0;34m(\u001b[0m\u001b[0mself\u001b[0m\u001b[0;34m,\u001b[0m \u001b[0mobj\u001b[0m\u001b[0;34m,\u001b[0m \u001b[0mkey\u001b[0m\u001b[0;34m,\u001b[0m \u001b[0mdefault\u001b[0m\u001b[0;34m)\u001b[0m\u001b[0;34m:\u001b[0m\u001b[0;34m\u001b[0m\u001b[0;34m\u001b[0m\u001b[0m\n",
            "\u001b[0;31mNoSuchElementException\u001b[0m: Message: no such element: Unable to locate element: {\"method\":\"xpath\",\"selector\":\"//*[@id='resultList']/table/tbody/tr/td[4]/b/a\"}\n  (Session info: chrome=76.0.3809.132)\n"
          ]
        }
      ]
    },
    {
      "cell_type": "code",
      "metadata": {
        "id": "clmKgS7J-YK-",
        "colab_type": "code",
        "colab": {}
      },
      "source": [
        ""
      ],
      "execution_count": 0,
      "outputs": []
    },
    {
      "cell_type": "code",
      "metadata": {
        "id": "4sk32u8b-YLB",
        "colab_type": "code",
        "colab": {}
      },
      "source": [
        ""
      ],
      "execution_count": 0,
      "outputs": []
    },
    {
      "cell_type": "code",
      "metadata": {
        "id": "Yzfrf1Rb-YLF",
        "colab_type": "code",
        "colab": {},
        "outputId": "7bec9c65-07a1-4b4d-a648-b8fe57c735d0"
      },
      "source": [
        "drv.find_element_by_xpath(\"//*[@id='tab1']/div[2]/ul/li[3]/div/a[2]\")"
      ],
      "execution_count": 0,
      "outputs": [
        {
          "output_type": "execute_result",
          "data": {
            "text/plain": [
              "<selenium.webdriver.remote.webelement.WebElement (session=\"7dbcefc986e50c8747efbb0365998591\", element=\"a4fe66a7-f451-47ff-9a5d-5f3cf4476e0d\")>"
            ]
          },
          "metadata": {
            "tags": []
          },
          "execution_count": 15
        }
      ]
    },
    {
      "cell_type": "code",
      "metadata": {
        "id": "0JtcsmND-YLH",
        "colab_type": "code",
        "colab": {}
      },
      "source": [
        "sample = drv.find_element_by_css_selector('a')\n",
        "drv.execute_script(\"arguments[0].click();\", sample)  #자바 명령어 실행"
      ],
      "execution_count": 0,
      "outputs": []
    },
    {
      "cell_type": "code",
      "metadata": {
        "id": "nzS0tkL1-YLI",
        "colab_type": "code",
        "colab": {}
      },
      "source": [
        "element = drv.find_element_by_xpath(\"//td[@class='tit']/b\")\n",
        "drv.execute_script(\"arguments[0].click();\", element)"
      ],
      "execution_count": 0,
      "outputs": []
    },
    {
      "cell_type": "code",
      "metadata": {
        "id": "gPEV0rnS-YLK",
        "colab_type": "code",
        "colab": {}
      },
      "source": [
        "drv.find_element_by_xpath(\"//*[@href='#']\").click()"
      ],
      "execution_count": 0,
      "outputs": []
    },
    {
      "cell_type": "code",
      "metadata": {
        "id": "52kUYj5u-YLN",
        "colab_type": "code",
        "colab": {}
      },
      "source": [
        "drv.quit()"
      ],
      "execution_count": 0,
      "outputs": []
    },
    {
      "cell_type": "code",
      "metadata": {
        "id": "8GYAdlPR-YLP",
        "colab_type": "code",
        "colab": {},
        "outputId": "03fd56f5-4835-4a96-b554-abb2d94f86f0"
      },
      "source": [
        "for i in range(1, len(csv_data)-1):\n",
        "    #새로운 탭 열고 이동\n",
        "    drv.execute_script(\"window.open('http://safind.scourt.go.kr/sf/mysafind.jsp?sch_sa_gbn=&sch_bub_nm=&sa_year=&sa_gubun=&sa_serial=&x=&y=&saveCookie=');\")\n",
        "    drv.switch_to_window(drv.window_handles[i])\n",
        "    \n",
        "        \n",
        "    # 사람처럼 보이게 하는 옵션들\n",
        "    #options.add_argument(\"disable-gpu\")   # 가속 사용 x\n",
        "    #options.add_argument(\"lang=ko_KR\")    # 가짜 플러그인 탑재\n",
        "    \n",
        "    drv.find_element_by_xpath(\"//*[@id='inputsano_ch']\").click()\n",
        "    drv.find_element_by_xpath(\"//*[@id='BubSort']\").click()    \n",
        "    drv.find_element_by_xpath(\"//*[@id='SagbnSort']\").click()\n",
        "    drv.find_element_by_xpath(\"//*[@id='saveCookieYn']\").click()\n",
        "    \n",
        "    #데이터 입력\n",
        "    #관할법원\n",
        "    drv.find_element_by_xpath(\"//select[@name='sch_bub_nm']/option[text()='\"+court[i]+\"']\").click() #관할법원\n",
        "    #print(court[i])\n",
        "\n",
        "    \n",
        "    #사건번호\n",
        "    input_sano = drv.find_element_by_xpath(\"//*[@name='input_sano']\")\n",
        "    input_sano.send_keys(sagun[i])\n",
        "    \n",
        "    #채무자명 입력\n",
        "    ds_nm = drv.find_element_by_xpath(\"//*[@id='ds_nm']\")\n",
        "    ds_nm.send_keys(name[i])\n",
        "    \n",
        "    #자동문자 방지 입력\n",
        "    input_answer = drv.find_element_by_xpath(\"//*[@id='answer']\")\n",
        "\n",
        "    capcha = input()\n",
        "    input_answer.send_keys(capcha)\n",
        "\n",
        "    #검색버튼 클릭\n",
        "    drv.find_element_by_xpath(\"//*[@class='redBtn']\").click()\n",
        "\n",
        "    #갯수증가\n",
        "    cnt += 1"
      ],
      "execution_count": 0,
      "outputs": [
        {
          "output_type": "stream",
          "text": [
            "//anaconda3/envs/deokenv/lib/python3.7/site-packages/ipykernel_launcher.py:4: DeprecationWarning: use driver.switch_to.window instead\n",
            "  after removing the cwd from sys.path.\n"
          ],
          "name": "stderr"
        },
        {
          "output_type": "error",
          "ename": "ElementNotInteractableException",
          "evalue": "Message: element not interactable\n  (Session info: chrome=76.0.3809.132)\n",
          "traceback": [
            "\u001b[0;31m---------------------------------------------------------------------------\u001b[0m",
            "\u001b[0;31mElementNotInteractableException\u001b[0m           Traceback (most recent call last)",
            "\u001b[0;32m<ipython-input-9-b5a3a42581d9>\u001b[0m in \u001b[0;36m<module>\u001b[0;34m\u001b[0m\n\u001b[1;32m     22\u001b[0m     \u001b[0;31m#사건번호\u001b[0m\u001b[0;34m\u001b[0m\u001b[0;34m\u001b[0m\u001b[0;34m\u001b[0m\u001b[0m\n\u001b[1;32m     23\u001b[0m     \u001b[0minput_sano\u001b[0m \u001b[0;34m=\u001b[0m \u001b[0mdrv\u001b[0m\u001b[0;34m.\u001b[0m\u001b[0mfind_element_by_xpath\u001b[0m\u001b[0;34m(\u001b[0m\u001b[0;34m\"//*[@name='input_sano']\"\u001b[0m\u001b[0;34m)\u001b[0m\u001b[0;34m\u001b[0m\u001b[0;34m\u001b[0m\u001b[0m\n\u001b[0;32m---> 24\u001b[0;31m     \u001b[0minput_sano\u001b[0m\u001b[0;34m.\u001b[0m\u001b[0msend_keys\u001b[0m\u001b[0;34m(\u001b[0m\u001b[0msagun\u001b[0m\u001b[0;34m[\u001b[0m\u001b[0mi\u001b[0m\u001b[0;34m]\u001b[0m\u001b[0;34m)\u001b[0m\u001b[0;34m\u001b[0m\u001b[0;34m\u001b[0m\u001b[0m\n\u001b[0m\u001b[1;32m     25\u001b[0m \u001b[0;34m\u001b[0m\u001b[0m\n\u001b[1;32m     26\u001b[0m     \u001b[0;31m#채무자명 입력\u001b[0m\u001b[0;34m\u001b[0m\u001b[0;34m\u001b[0m\u001b[0;34m\u001b[0m\u001b[0m\n",
            "\u001b[0;32m//anaconda3/envs/deokenv/lib/python3.7/site-packages/selenium/webdriver/remote/webelement.py\u001b[0m in \u001b[0;36msend_keys\u001b[0;34m(self, *value)\u001b[0m\n\u001b[1;32m    477\u001b[0m         self._execute(Command.SEND_KEYS_TO_ELEMENT,\n\u001b[1;32m    478\u001b[0m                       {'text': \"\".join(keys_to_typing(value)),\n\u001b[0;32m--> 479\u001b[0;31m                        'value': keys_to_typing(value)})\n\u001b[0m\u001b[1;32m    480\u001b[0m \u001b[0;34m\u001b[0m\u001b[0m\n\u001b[1;32m    481\u001b[0m     \u001b[0;31m# RenderedWebElement Items\u001b[0m\u001b[0;34m\u001b[0m\u001b[0;34m\u001b[0m\u001b[0;34m\u001b[0m\u001b[0m\n",
            "\u001b[0;32m//anaconda3/envs/deokenv/lib/python3.7/site-packages/selenium/webdriver/remote/webelement.py\u001b[0m in \u001b[0;36m_execute\u001b[0;34m(self, command, params)\u001b[0m\n\u001b[1;32m    631\u001b[0m             \u001b[0mparams\u001b[0m \u001b[0;34m=\u001b[0m \u001b[0;34m{\u001b[0m\u001b[0;34m}\u001b[0m\u001b[0;34m\u001b[0m\u001b[0;34m\u001b[0m\u001b[0m\n\u001b[1;32m    632\u001b[0m         \u001b[0mparams\u001b[0m\u001b[0;34m[\u001b[0m\u001b[0;34m'id'\u001b[0m\u001b[0;34m]\u001b[0m \u001b[0;34m=\u001b[0m \u001b[0mself\u001b[0m\u001b[0;34m.\u001b[0m\u001b[0m_id\u001b[0m\u001b[0;34m\u001b[0m\u001b[0;34m\u001b[0m\u001b[0m\n\u001b[0;32m--> 633\u001b[0;31m         \u001b[0;32mreturn\u001b[0m \u001b[0mself\u001b[0m\u001b[0;34m.\u001b[0m\u001b[0m_parent\u001b[0m\u001b[0;34m.\u001b[0m\u001b[0mexecute\u001b[0m\u001b[0;34m(\u001b[0m\u001b[0mcommand\u001b[0m\u001b[0;34m,\u001b[0m \u001b[0mparams\u001b[0m\u001b[0;34m)\u001b[0m\u001b[0;34m\u001b[0m\u001b[0;34m\u001b[0m\u001b[0m\n\u001b[0m\u001b[1;32m    634\u001b[0m \u001b[0;34m\u001b[0m\u001b[0m\n\u001b[1;32m    635\u001b[0m     \u001b[0;32mdef\u001b[0m \u001b[0mfind_element\u001b[0m\u001b[0;34m(\u001b[0m\u001b[0mself\u001b[0m\u001b[0;34m,\u001b[0m \u001b[0mby\u001b[0m\u001b[0;34m=\u001b[0m\u001b[0mBy\u001b[0m\u001b[0;34m.\u001b[0m\u001b[0mID\u001b[0m\u001b[0;34m,\u001b[0m \u001b[0mvalue\u001b[0m\u001b[0;34m=\u001b[0m\u001b[0;32mNone\u001b[0m\u001b[0;34m)\u001b[0m\u001b[0;34m:\u001b[0m\u001b[0;34m\u001b[0m\u001b[0;34m\u001b[0m\u001b[0m\n",
            "\u001b[0;32m//anaconda3/envs/deokenv/lib/python3.7/site-packages/selenium/webdriver/remote/webdriver.py\u001b[0m in \u001b[0;36mexecute\u001b[0;34m(self, driver_command, params)\u001b[0m\n\u001b[1;32m    319\u001b[0m         \u001b[0mresponse\u001b[0m \u001b[0;34m=\u001b[0m \u001b[0mself\u001b[0m\u001b[0;34m.\u001b[0m\u001b[0mcommand_executor\u001b[0m\u001b[0;34m.\u001b[0m\u001b[0mexecute\u001b[0m\u001b[0;34m(\u001b[0m\u001b[0mdriver_command\u001b[0m\u001b[0;34m,\u001b[0m \u001b[0mparams\u001b[0m\u001b[0;34m)\u001b[0m\u001b[0;34m\u001b[0m\u001b[0;34m\u001b[0m\u001b[0m\n\u001b[1;32m    320\u001b[0m         \u001b[0;32mif\u001b[0m \u001b[0mresponse\u001b[0m\u001b[0;34m:\u001b[0m\u001b[0;34m\u001b[0m\u001b[0;34m\u001b[0m\u001b[0m\n\u001b[0;32m--> 321\u001b[0;31m             \u001b[0mself\u001b[0m\u001b[0;34m.\u001b[0m\u001b[0merror_handler\u001b[0m\u001b[0;34m.\u001b[0m\u001b[0mcheck_response\u001b[0m\u001b[0;34m(\u001b[0m\u001b[0mresponse\u001b[0m\u001b[0;34m)\u001b[0m\u001b[0;34m\u001b[0m\u001b[0;34m\u001b[0m\u001b[0m\n\u001b[0m\u001b[1;32m    322\u001b[0m             response['value'] = self._unwrap_value(\n\u001b[1;32m    323\u001b[0m                 response.get('value', None))\n",
            "\u001b[0;32m//anaconda3/envs/deokenv/lib/python3.7/site-packages/selenium/webdriver/remote/errorhandler.py\u001b[0m in \u001b[0;36mcheck_response\u001b[0;34m(self, response)\u001b[0m\n\u001b[1;32m    240\u001b[0m                 \u001b[0malert_text\u001b[0m \u001b[0;34m=\u001b[0m \u001b[0mvalue\u001b[0m\u001b[0;34m[\u001b[0m\u001b[0;34m'alert'\u001b[0m\u001b[0;34m]\u001b[0m\u001b[0;34m.\u001b[0m\u001b[0mget\u001b[0m\u001b[0;34m(\u001b[0m\u001b[0;34m'text'\u001b[0m\u001b[0;34m)\u001b[0m\u001b[0;34m\u001b[0m\u001b[0;34m\u001b[0m\u001b[0m\n\u001b[1;32m    241\u001b[0m             \u001b[0;32mraise\u001b[0m \u001b[0mexception_class\u001b[0m\u001b[0;34m(\u001b[0m\u001b[0mmessage\u001b[0m\u001b[0;34m,\u001b[0m \u001b[0mscreen\u001b[0m\u001b[0;34m,\u001b[0m \u001b[0mstacktrace\u001b[0m\u001b[0;34m,\u001b[0m \u001b[0malert_text\u001b[0m\u001b[0;34m)\u001b[0m\u001b[0;34m\u001b[0m\u001b[0;34m\u001b[0m\u001b[0m\n\u001b[0;32m--> 242\u001b[0;31m         \u001b[0;32mraise\u001b[0m \u001b[0mexception_class\u001b[0m\u001b[0;34m(\u001b[0m\u001b[0mmessage\u001b[0m\u001b[0;34m,\u001b[0m \u001b[0mscreen\u001b[0m\u001b[0;34m,\u001b[0m \u001b[0mstacktrace\u001b[0m\u001b[0;34m)\u001b[0m\u001b[0;34m\u001b[0m\u001b[0;34m\u001b[0m\u001b[0m\n\u001b[0m\u001b[1;32m    243\u001b[0m \u001b[0;34m\u001b[0m\u001b[0m\n\u001b[1;32m    244\u001b[0m     \u001b[0;32mdef\u001b[0m \u001b[0m_value_or_default\u001b[0m\u001b[0;34m(\u001b[0m\u001b[0mself\u001b[0m\u001b[0;34m,\u001b[0m \u001b[0mobj\u001b[0m\u001b[0;34m,\u001b[0m \u001b[0mkey\u001b[0m\u001b[0;34m,\u001b[0m \u001b[0mdefault\u001b[0m\u001b[0;34m)\u001b[0m\u001b[0;34m:\u001b[0m\u001b[0;34m\u001b[0m\u001b[0;34m\u001b[0m\u001b[0m\n",
            "\u001b[0;31mElementNotInteractableException\u001b[0m: Message: element not interactable\n  (Session info: chrome=76.0.3809.132)\n"
          ]
        }
      ]
    },
    {
      "cell_type": "code",
      "metadata": {
        "id": "KrJknGY2-YLU",
        "colab_type": "code",
        "colab": {}
      },
      "source": [
        "drv.quit()"
      ],
      "execution_count": 0,
      "outputs": []
    },
    {
      "cell_type": "code",
      "metadata": {
        "id": "p84kt2hu-YLY",
        "colab_type": "code",
        "colab": {},
        "outputId": "1a3aa2bd-7214-402f-f406-1edf4ae03ab9"
      },
      "source": [
        "#자동문자 방지 입력\n",
        "input_answer = drv.find_element_by_xpath(\"//*[@id='answer']\""
      ],
      "execution_count": 0,
      "outputs": [
        {
          "output_type": "stream",
          "text": [
            "9\n"
          ],
          "name": "stdout"
        }
      ]
    },
    {
      "cell_type": "code",
      "metadata": {
        "scrolled": true,
        "id": "DA0qmJFf-YLa",
        "colab_type": "code",
        "colab": {}
      },
      "source": [
        "#for i in range(5):\n",
        "drv.find_element_by_xpath(\"//select[@name='sch_bub_nm']/option[text()='\"+court[0]+\"']\").click() #관할법원\n",
        "    #drv.find_element_by_xpath(\"//*[@id='inputsano_ch']\").click()\n",
        "    #cnt += 1\n",
        "    #사건입력\n",
        "    "
      ],
      "execution_count": 0,
      "outputs": []
    },
    {
      "cell_type": "code",
      "metadata": {
        "id": "hENJLFAx-YLd",
        "colab_type": "code",
        "colab": {}
      },
      "source": [
        "drv.find_element_by_xpath(\"//*[@id='inputsano_ch']\").click()\n",
        "drv.find_element_by_xpath(\"//*[@id='BubSort']\").click()\n",
        "drv.find_element_by_xpath(\"//*[@id='SagbnSort']\").click()\n",
        "drv.find_element_by_xpath(\"//*[@id='saveCookieYn']\").click()"
      ],
      "execution_count": 0,
      "outputs": []
    },
    {
      "cell_type": "code",
      "metadata": {
        "collapsed": true,
        "id": "66UL1uif-YLf",
        "colab_type": "code",
        "colab": {},
        "outputId": "1c24f603-975e-4734-b821-546fe95f76bc"
      },
      "source": [
        "#사건번호 입력\n",
        "input_sano = drv.find_element_by_xpath(\"//*[@name='input_sano']\")\n",
        "input_sano.send_keys('222')\n",
        "\n",
        "#drv.find_element_by_xpath(\"//select[@name='sel_sa_year']/option[text()='2016']\").click() #2016을 사건년도 반복문으로 바꾸기\n",
        "#drv.find_element_by_xpath(\"//select[@name='sa_gubun']/option[text()='개회']\").click() \n",
        "#sa_serial = drv.find_element_by_xpath(\"//*[@id='sa_serial']\")\n",
        "#sa_serial.send_keys('41908') #사건번호"
      ],
      "execution_count": 0,
      "outputs": [
        {
          "output_type": "error",
          "ename": "ElementNotInteractableException",
          "evalue": "Message: element not interactable\n  (Session info: chrome=76.0.3809.132)\n",
          "traceback": [
            "\u001b[0;31m---------------------------------------------------------------------------\u001b[0m",
            "\u001b[0;31mElementNotInteractableException\u001b[0m           Traceback (most recent call last)",
            "\u001b[0;32m<ipython-input-19-f59dd2466057>\u001b[0m in \u001b[0;36m<module>\u001b[0;34m\u001b[0m\n\u001b[1;32m      1\u001b[0m \u001b[0;31m#사건번호로 입력\u001b[0m\u001b[0;34m\u001b[0m\u001b[0;34m\u001b[0m\u001b[0;34m\u001b[0m\u001b[0m\n\u001b[1;32m      2\u001b[0m \u001b[0minput_sano\u001b[0m \u001b[0;34m=\u001b[0m \u001b[0mdrv\u001b[0m\u001b[0;34m.\u001b[0m\u001b[0mfind_element_by_xpath\u001b[0m\u001b[0;34m(\u001b[0m\u001b[0;34m\"//*[@name='input_sano']\"\u001b[0m\u001b[0;34m)\u001b[0m\u001b[0;34m\u001b[0m\u001b[0;34m\u001b[0m\u001b[0m\n\u001b[0;32m----> 3\u001b[0;31m \u001b[0minput_sano\u001b[0m\u001b[0;34m.\u001b[0m\u001b[0msend_keys\u001b[0m\u001b[0;34m(\u001b[0m\u001b[0;34m'222'\u001b[0m\u001b[0;34m)\u001b[0m\u001b[0;34m\u001b[0m\u001b[0;34m\u001b[0m\u001b[0m\n\u001b[0m\u001b[1;32m      4\u001b[0m \u001b[0;34m\u001b[0m\u001b[0m\n\u001b[1;32m      5\u001b[0m \u001b[0;31m#drv.find_element_by_xpath(\"//select[@name='sel_sa_year']/option[text()='2016']\").click() #2016을 사건년도 반복문으로 바꾸기\u001b[0m\u001b[0;34m\u001b[0m\u001b[0;34m\u001b[0m\u001b[0;34m\u001b[0m\u001b[0m\n",
            "\u001b[0;32m//anaconda3/envs/deokenv/lib/python3.7/site-packages/selenium/webdriver/remote/webelement.py\u001b[0m in \u001b[0;36msend_keys\u001b[0;34m(self, *value)\u001b[0m\n\u001b[1;32m    477\u001b[0m         self._execute(Command.SEND_KEYS_TO_ELEMENT,\n\u001b[1;32m    478\u001b[0m                       {'text': \"\".join(keys_to_typing(value)),\n\u001b[0;32m--> 479\u001b[0;31m                        'value': keys_to_typing(value)})\n\u001b[0m\u001b[1;32m    480\u001b[0m \u001b[0;34m\u001b[0m\u001b[0m\n\u001b[1;32m    481\u001b[0m     \u001b[0;31m# RenderedWebElement Items\u001b[0m\u001b[0;34m\u001b[0m\u001b[0;34m\u001b[0m\u001b[0;34m\u001b[0m\u001b[0m\n",
            "\u001b[0;32m//anaconda3/envs/deokenv/lib/python3.7/site-packages/selenium/webdriver/remote/webelement.py\u001b[0m in \u001b[0;36m_execute\u001b[0;34m(self, command, params)\u001b[0m\n\u001b[1;32m    631\u001b[0m             \u001b[0mparams\u001b[0m \u001b[0;34m=\u001b[0m \u001b[0;34m{\u001b[0m\u001b[0;34m}\u001b[0m\u001b[0;34m\u001b[0m\u001b[0;34m\u001b[0m\u001b[0m\n\u001b[1;32m    632\u001b[0m         \u001b[0mparams\u001b[0m\u001b[0;34m[\u001b[0m\u001b[0;34m'id'\u001b[0m\u001b[0;34m]\u001b[0m \u001b[0;34m=\u001b[0m \u001b[0mself\u001b[0m\u001b[0;34m.\u001b[0m\u001b[0m_id\u001b[0m\u001b[0;34m\u001b[0m\u001b[0;34m\u001b[0m\u001b[0m\n\u001b[0;32m--> 633\u001b[0;31m         \u001b[0;32mreturn\u001b[0m \u001b[0mself\u001b[0m\u001b[0;34m.\u001b[0m\u001b[0m_parent\u001b[0m\u001b[0;34m.\u001b[0m\u001b[0mexecute\u001b[0m\u001b[0;34m(\u001b[0m\u001b[0mcommand\u001b[0m\u001b[0;34m,\u001b[0m \u001b[0mparams\u001b[0m\u001b[0;34m)\u001b[0m\u001b[0;34m\u001b[0m\u001b[0;34m\u001b[0m\u001b[0m\n\u001b[0m\u001b[1;32m    634\u001b[0m \u001b[0;34m\u001b[0m\u001b[0m\n\u001b[1;32m    635\u001b[0m     \u001b[0;32mdef\u001b[0m \u001b[0mfind_element\u001b[0m\u001b[0;34m(\u001b[0m\u001b[0mself\u001b[0m\u001b[0;34m,\u001b[0m \u001b[0mby\u001b[0m\u001b[0;34m=\u001b[0m\u001b[0mBy\u001b[0m\u001b[0;34m.\u001b[0m\u001b[0mID\u001b[0m\u001b[0;34m,\u001b[0m \u001b[0mvalue\u001b[0m\u001b[0;34m=\u001b[0m\u001b[0;32mNone\u001b[0m\u001b[0;34m)\u001b[0m\u001b[0;34m:\u001b[0m\u001b[0;34m\u001b[0m\u001b[0;34m\u001b[0m\u001b[0m\n",
            "\u001b[0;32m//anaconda3/envs/deokenv/lib/python3.7/site-packages/selenium/webdriver/remote/webdriver.py\u001b[0m in \u001b[0;36mexecute\u001b[0;34m(self, driver_command, params)\u001b[0m\n\u001b[1;32m    319\u001b[0m         \u001b[0mresponse\u001b[0m \u001b[0;34m=\u001b[0m \u001b[0mself\u001b[0m\u001b[0;34m.\u001b[0m\u001b[0mcommand_executor\u001b[0m\u001b[0;34m.\u001b[0m\u001b[0mexecute\u001b[0m\u001b[0;34m(\u001b[0m\u001b[0mdriver_command\u001b[0m\u001b[0;34m,\u001b[0m \u001b[0mparams\u001b[0m\u001b[0;34m)\u001b[0m\u001b[0;34m\u001b[0m\u001b[0;34m\u001b[0m\u001b[0m\n\u001b[1;32m    320\u001b[0m         \u001b[0;32mif\u001b[0m \u001b[0mresponse\u001b[0m\u001b[0;34m:\u001b[0m\u001b[0;34m\u001b[0m\u001b[0;34m\u001b[0m\u001b[0m\n\u001b[0;32m--> 321\u001b[0;31m             \u001b[0mself\u001b[0m\u001b[0;34m.\u001b[0m\u001b[0merror_handler\u001b[0m\u001b[0;34m.\u001b[0m\u001b[0mcheck_response\u001b[0m\u001b[0;34m(\u001b[0m\u001b[0mresponse\u001b[0m\u001b[0;34m)\u001b[0m\u001b[0;34m\u001b[0m\u001b[0;34m\u001b[0m\u001b[0m\n\u001b[0m\u001b[1;32m    322\u001b[0m             response['value'] = self._unwrap_value(\n\u001b[1;32m    323\u001b[0m                 response.get('value', None))\n",
            "\u001b[0;32m//anaconda3/envs/deokenv/lib/python3.7/site-packages/selenium/webdriver/remote/errorhandler.py\u001b[0m in \u001b[0;36mcheck_response\u001b[0;34m(self, response)\u001b[0m\n\u001b[1;32m    240\u001b[0m                 \u001b[0malert_text\u001b[0m \u001b[0;34m=\u001b[0m \u001b[0mvalue\u001b[0m\u001b[0;34m[\u001b[0m\u001b[0;34m'alert'\u001b[0m\u001b[0;34m]\u001b[0m\u001b[0;34m.\u001b[0m\u001b[0mget\u001b[0m\u001b[0;34m(\u001b[0m\u001b[0;34m'text'\u001b[0m\u001b[0;34m)\u001b[0m\u001b[0;34m\u001b[0m\u001b[0;34m\u001b[0m\u001b[0m\n\u001b[1;32m    241\u001b[0m             \u001b[0;32mraise\u001b[0m \u001b[0mexception_class\u001b[0m\u001b[0;34m(\u001b[0m\u001b[0mmessage\u001b[0m\u001b[0;34m,\u001b[0m \u001b[0mscreen\u001b[0m\u001b[0;34m,\u001b[0m \u001b[0mstacktrace\u001b[0m\u001b[0;34m,\u001b[0m \u001b[0malert_text\u001b[0m\u001b[0;34m)\u001b[0m\u001b[0;34m\u001b[0m\u001b[0;34m\u001b[0m\u001b[0m\n\u001b[0;32m--> 242\u001b[0;31m         \u001b[0;32mraise\u001b[0m \u001b[0mexception_class\u001b[0m\u001b[0;34m(\u001b[0m\u001b[0mmessage\u001b[0m\u001b[0;34m,\u001b[0m \u001b[0mscreen\u001b[0m\u001b[0;34m,\u001b[0m \u001b[0mstacktrace\u001b[0m\u001b[0;34m)\u001b[0m\u001b[0;34m\u001b[0m\u001b[0;34m\u001b[0m\u001b[0m\n\u001b[0m\u001b[1;32m    243\u001b[0m \u001b[0;34m\u001b[0m\u001b[0m\n\u001b[1;32m    244\u001b[0m     \u001b[0;32mdef\u001b[0m \u001b[0m_value_or_default\u001b[0m\u001b[0;34m(\u001b[0m\u001b[0mself\u001b[0m\u001b[0;34m,\u001b[0m \u001b[0mobj\u001b[0m\u001b[0;34m,\u001b[0m \u001b[0mkey\u001b[0m\u001b[0;34m,\u001b[0m \u001b[0mdefault\u001b[0m\u001b[0;34m)\u001b[0m\u001b[0;34m:\u001b[0m\u001b[0;34m\u001b[0m\u001b[0;34m\u001b[0m\u001b[0m\n",
            "\u001b[0;31mElementNotInteractableException\u001b[0m: Message: element not interactable\n  (Session info: chrome=76.0.3809.132)\n"
          ]
        }
      ]
    },
    {
      "cell_type": "code",
      "metadata": {
        "id": "jFlj3_qw-YLn",
        "colab_type": "code",
        "colab": {}
      },
      "source": [
        "#채무자명 입력\n",
        "ds_nm = drv.find_element_by_xpath(\"//*[@id='ds_nm']\")\n",
        "ds_nm.send_keys('강성현')\n",
        "\n",
        "#체크박스 체크하기\n",
        "\n",
        "drv.find_element_by_xpath(\"//*[@id='BubSort']\").click()\n",
        "drv.find_element_by_xpath(\"//*[@id='SagbnSort']\").click()\n",
        "drv.find_element_by_xpath(\"//*[@id='saveCookieYn']\").click()"
      ],
      "execution_count": 0,
      "outputs": []
    },
    {
      "cell_type": "code",
      "metadata": {
        "id": "F44YOt6S-YLr",
        "colab_type": "code",
        "colab": {}
      },
      "source": [
        "drv.find_element_by_xpath(\"//select[@name='sch_bub_nm']/option[text()='서울회생법원']\").click() #관할법원\n",
        "#drv.find_element_by_xpath(\"//*[@id='inputsano_ch']\").click()\n",
        "#사건번호로 입력\n",
        "input_sano = drv.find_element_by_xpath(\"//*[@name='input_sano']\")\n",
        "input_sano.send_keys('2018개회1043001')\n",
        "\n",
        "#drv.find_element_by_xpath(\"//select[@name='sel_sa_year']/option[text()='2016']\").click() #2016을 사건년도 반복문으로 바꾸기\n",
        "#drv.find_element_by_xpath(\"//select[@name='sa_gubun']/option[text()='개회']\").click() \n",
        "#sa_serial = drv.find_element_by_xpath(\"//*[@id='sa_serial']\")\n",
        "#sa_serial.send_keys('41908') #사건번호\n",
        "#채무자명 입력\n",
        "ds_nm = drv.find_element_by_xpath(\"//*[@id='ds_nm']\")\n",
        "ds_nm.send_keys('강소영')\n",
        "\n",
        "#체크박스 체크하기\n",
        "\n",
        "#drv.find_element_by_xpath(\"//*[@id='BubSort']\").click()\n",
        "#drv.find_element_by_xpath(\"//*[@id='SagbnSort']\").click()\n",
        "#drv.find_element_by_xpath(\"//*[@id='saveCookieYn']\").click()"
      ],
      "execution_count": 0,
      "outputs": []
    },
    {
      "cell_type": "code",
      "metadata": {
        "id": "sCoEJLdV-YLt",
        "colab_type": "code",
        "colab": {},
        "outputId": "f026cf2c-654c-491e-fbdb-a52897939f10"
      },
      "source": [
        "print(csv_data)"
      ],
      "execution_count": 0,
      "outputs": [
        {
          "output_type": "stream",
          "text": [
            "        0              1     2         3        4           5      6   \\\n",
            "0     관할법원           사건번호  채무자명  접수일(신청일)  금지명령송달일  채권자계좌번호신고일  개시결정일   \n",
            "1   대전지방법원    2016개회41908   강성현       NaN      NaN         NaN    NaN   \n",
            "2   서울회생법원  2018개회1043001   강소영       NaN      NaN         NaN    NaN   \n",
            "3   서울회생법원   2014개회191060   강금순       NaN      NaN         NaN    NaN   \n",
            "4   울산지방법원    2017개회20924   강명호       NaN      NaN         NaN    NaN   \n",
            "5   대전지방법원    2014개회61649   강미리       NaN      NaN         NaN    NaN   \n",
            "6   서울회생법원     2018개회9459   강민성       NaN      NaN         NaN    NaN   \n",
            "7   전주지방법원   2014개회100402   강민정       NaN      NaN         NaN    NaN   \n",
            "8   수원지방법원   2014개회147238   강사랑       NaN      NaN         NaN    NaN   \n",
            "9   인천지방법원    2015개회37355   강소연       NaN      NaN         NaN    NaN   \n",
            "10  수원지방법원    2017개회54054   강아론       NaN      NaN         NaN    NaN   \n",
            "\n",
            "                 7                8      9        10  \n",
            "0   채권이의마감일(이의신청기간)  변제계획인가일(이의신청기간)  면책결정일  절차폐지결정일  \n",
            "1               NaN              NaN    NaN      NaN  \n",
            "2               NaN              NaN    NaN      NaN  \n",
            "3               NaN              NaN    NaN      NaN  \n",
            "4               NaN              NaN    NaN      NaN  \n",
            "5               NaN              NaN    NaN      NaN  \n",
            "6               NaN              NaN    NaN      NaN  \n",
            "7               NaN              NaN    NaN      NaN  \n",
            "8               NaN              NaN    NaN      NaN  \n",
            "9               NaN              NaN    NaN      NaN  \n",
            "10              NaN              NaN    NaN      NaN  \n"
          ],
          "name": "stdout"
        }
      ]
    },
    {
      "cell_type": "code",
      "metadata": {
        "id": "sRyrrXTL-YLw",
        "colab_type": "code",
        "colab": {},
        "outputId": "cbd7ec9c-13f1-4337-b16c-8fb808952e29"
      },
      "source": [
        "print(len(csv_data))\n",
        "print(len(csv_data.columns))"
      ],
      "execution_count": 0,
      "outputs": [
        {
          "output_type": "stream",
          "text": [
            "11\n",
            "11\n"
          ],
          "name": "stdout"
        }
      ]
    },
    {
      "cell_type": "code",
      "metadata": {
        "id": "vNoP1403-YL6",
        "colab_type": "code",
        "colab": {},
        "outputId": "1d082850-fa2a-4f93-cbb8-6458b67e7700"
      },
      "source": [
        "csv_data[2]"
      ],
      "execution_count": 0,
      "outputs": [
        {
          "output_type": "execute_result",
          "data": {
            "text/plain": [
              "0     채무자명\n",
              "1      강성현\n",
              "2      강소영\n",
              "3      강금순\n",
              "4      강명호\n",
              "5      강미리\n",
              "6      강민성\n",
              "7      강민정\n",
              "8      강사랑\n",
              "9      강소연\n",
              "10     강아론\n",
              "Name: 2, dtype: object"
            ]
          },
          "metadata": {
            "tags": []
          },
          "execution_count": 11
        }
      ]
    },
    {
      "cell_type": "code",
      "metadata": {
        "id": "KygQ7yAt-YMB",
        "colab_type": "code",
        "colab": {}
      },
      "source": [
        "x = []\n",
        "for i in range(1, len(csv_data)):\n",
        "    y = csv_data[0][i]\n",
        "    x.append(y)\n"
      ],
      "execution_count": 0,
      "outputs": []
    },
    {
      "cell_type": "code",
      "metadata": {
        "id": "2DA9JOKv-YMD",
        "colab_type": "code",
        "colab": {},
        "outputId": "6769a2cc-31a3-4a53-d720-039cdacb8735"
      },
      "source": [
        "print(x)"
      ],
      "execution_count": 0,
      "outputs": [
        {
          "output_type": "stream",
          "text": [
            "['대전지방법원', '서울회생법원', '서울회생법원', '울산지방법원', '대전지방법원', '서울회생법원', '전주지방법원', '수원지방법원', '인천지방법원', '수원지방법원']\n"
          ],
          "name": "stdout"
        }
      ]
    },
    {
      "cell_type": "code",
      "metadata": {
        "collapsed": true,
        "id": "5u0qDw6D-YMK",
        "colab_type": "code",
        "colab": {},
        "outputId": "2fb5b015-4acb-4807-96e7-52884ccb2d16"
      },
      "source": [
        "for i in range(0, 2):\n",
        "    for j in range(1, len(csv_data.columns)):\n",
        "        print(csv_data)"
      ],
      "execution_count": 0,
      "outputs": [
        {
          "output_type": "stream",
          "text": [
            "        0              1     2         3        4           5      6   \\\n",
            "0     관할법원           사건번호  채무자명  접수일(신청일)  금지명령송달일  채권자계좌번호신고일  개시결정일   \n",
            "1   대전지방법원    2016개회41908   강성현       NaN      NaN         NaN    NaN   \n",
            "2   서울회생법원  2018개회1043001   강소영       NaN      NaN         NaN    NaN   \n",
            "3   서울회생법원   2014개회191060   강금순       NaN      NaN         NaN    NaN   \n",
            "4   울산지방법원    2017개회20924   강명호       NaN      NaN         NaN    NaN   \n",
            "5   대전지방법원    2014개회61649   강미리       NaN      NaN         NaN    NaN   \n",
            "6   서울회생법원     2018개회9459   강민성       NaN      NaN         NaN    NaN   \n",
            "7   전주지방법원   2014개회100402   강민정       NaN      NaN         NaN    NaN   \n",
            "8   수원지방법원   2014개회147238   강사랑       NaN      NaN         NaN    NaN   \n",
            "9   인천지방법원    2015개회37355   강소연       NaN      NaN         NaN    NaN   \n",
            "10  수원지방법원    2017개회54054   강아론       NaN      NaN         NaN    NaN   \n",
            "\n",
            "                 7                8      9        10  \n",
            "0   채권이의마감일(이의신청기간)  변제계획인가일(이의신청기간)  면책결정일  절차폐지결정일  \n",
            "1               NaN              NaN    NaN      NaN  \n",
            "2               NaN              NaN    NaN      NaN  \n",
            "3               NaN              NaN    NaN      NaN  \n",
            "4               NaN              NaN    NaN      NaN  \n",
            "5               NaN              NaN    NaN      NaN  \n",
            "6               NaN              NaN    NaN      NaN  \n",
            "7               NaN              NaN    NaN      NaN  \n",
            "8               NaN              NaN    NaN      NaN  \n",
            "9               NaN              NaN    NaN      NaN  \n",
            "10              NaN              NaN    NaN      NaN  \n",
            "        0              1     2         3        4           5      6   \\\n",
            "0     관할법원           사건번호  채무자명  접수일(신청일)  금지명령송달일  채권자계좌번호신고일  개시결정일   \n",
            "1   대전지방법원    2016개회41908   강성현       NaN      NaN         NaN    NaN   \n",
            "2   서울회생법원  2018개회1043001   강소영       NaN      NaN         NaN    NaN   \n",
            "3   서울회생법원   2014개회191060   강금순       NaN      NaN         NaN    NaN   \n",
            "4   울산지방법원    2017개회20924   강명호       NaN      NaN         NaN    NaN   \n",
            "5   대전지방법원    2014개회61649   강미리       NaN      NaN         NaN    NaN   \n",
            "6   서울회생법원     2018개회9459   강민성       NaN      NaN         NaN    NaN   \n",
            "7   전주지방법원   2014개회100402   강민정       NaN      NaN         NaN    NaN   \n",
            "8   수원지방법원   2014개회147238   강사랑       NaN      NaN         NaN    NaN   \n",
            "9   인천지방법원    2015개회37355   강소연       NaN      NaN         NaN    NaN   \n",
            "10  수원지방법원    2017개회54054   강아론       NaN      NaN         NaN    NaN   \n",
            "\n",
            "                 7                8      9        10  \n",
            "0   채권이의마감일(이의신청기간)  변제계획인가일(이의신청기간)  면책결정일  절차폐지결정일  \n",
            "1               NaN              NaN    NaN      NaN  \n",
            "2               NaN              NaN    NaN      NaN  \n",
            "3               NaN              NaN    NaN      NaN  \n",
            "4               NaN              NaN    NaN      NaN  \n",
            "5               NaN              NaN    NaN      NaN  \n",
            "6               NaN              NaN    NaN      NaN  \n",
            "7               NaN              NaN    NaN      NaN  \n",
            "8               NaN              NaN    NaN      NaN  \n",
            "9               NaN              NaN    NaN      NaN  \n",
            "10              NaN              NaN    NaN      NaN  \n",
            "        0              1     2         3        4           5      6   \\\n",
            "0     관할법원           사건번호  채무자명  접수일(신청일)  금지명령송달일  채권자계좌번호신고일  개시결정일   \n",
            "1   대전지방법원    2016개회41908   강성현       NaN      NaN         NaN    NaN   \n",
            "2   서울회생법원  2018개회1043001   강소영       NaN      NaN         NaN    NaN   \n",
            "3   서울회생법원   2014개회191060   강금순       NaN      NaN         NaN    NaN   \n",
            "4   울산지방법원    2017개회20924   강명호       NaN      NaN         NaN    NaN   \n",
            "5   대전지방법원    2014개회61649   강미리       NaN      NaN         NaN    NaN   \n",
            "6   서울회생법원     2018개회9459   강민성       NaN      NaN         NaN    NaN   \n",
            "7   전주지방법원   2014개회100402   강민정       NaN      NaN         NaN    NaN   \n",
            "8   수원지방법원   2014개회147238   강사랑       NaN      NaN         NaN    NaN   \n",
            "9   인천지방법원    2015개회37355   강소연       NaN      NaN         NaN    NaN   \n",
            "10  수원지방법원    2017개회54054   강아론       NaN      NaN         NaN    NaN   \n",
            "\n",
            "                 7                8      9        10  \n",
            "0   채권이의마감일(이의신청기간)  변제계획인가일(이의신청기간)  면책결정일  절차폐지결정일  \n",
            "1               NaN              NaN    NaN      NaN  \n",
            "2               NaN              NaN    NaN      NaN  \n",
            "3               NaN              NaN    NaN      NaN  \n",
            "4               NaN              NaN    NaN      NaN  \n",
            "5               NaN              NaN    NaN      NaN  \n",
            "6               NaN              NaN    NaN      NaN  \n",
            "7               NaN              NaN    NaN      NaN  \n",
            "8               NaN              NaN    NaN      NaN  \n",
            "9               NaN              NaN    NaN      NaN  \n",
            "10              NaN              NaN    NaN      NaN  \n",
            "        0              1     2         3        4           5      6   \\\n",
            "0     관할법원           사건번호  채무자명  접수일(신청일)  금지명령송달일  채권자계좌번호신고일  개시결정일   \n",
            "1   대전지방법원    2016개회41908   강성현       NaN      NaN         NaN    NaN   \n",
            "2   서울회생법원  2018개회1043001   강소영       NaN      NaN         NaN    NaN   \n",
            "3   서울회생법원   2014개회191060   강금순       NaN      NaN         NaN    NaN   \n",
            "4   울산지방법원    2017개회20924   강명호       NaN      NaN         NaN    NaN   \n",
            "5   대전지방법원    2014개회61649   강미리       NaN      NaN         NaN    NaN   \n",
            "6   서울회생법원     2018개회9459   강민성       NaN      NaN         NaN    NaN   \n",
            "7   전주지방법원   2014개회100402   강민정       NaN      NaN         NaN    NaN   \n",
            "8   수원지방법원   2014개회147238   강사랑       NaN      NaN         NaN    NaN   \n",
            "9   인천지방법원    2015개회37355   강소연       NaN      NaN         NaN    NaN   \n",
            "10  수원지방법원    2017개회54054   강아론       NaN      NaN         NaN    NaN   \n",
            "\n",
            "                 7                8      9        10  \n",
            "0   채권이의마감일(이의신청기간)  변제계획인가일(이의신청기간)  면책결정일  절차폐지결정일  \n",
            "1               NaN              NaN    NaN      NaN  \n",
            "2               NaN              NaN    NaN      NaN  \n",
            "3               NaN              NaN    NaN      NaN  \n",
            "4               NaN              NaN    NaN      NaN  \n",
            "5               NaN              NaN    NaN      NaN  \n",
            "6               NaN              NaN    NaN      NaN  \n",
            "7               NaN              NaN    NaN      NaN  \n",
            "8               NaN              NaN    NaN      NaN  \n",
            "9               NaN              NaN    NaN      NaN  \n",
            "10              NaN              NaN    NaN      NaN  \n",
            "        0              1     2         3        4           5      6   \\\n",
            "0     관할법원           사건번호  채무자명  접수일(신청일)  금지명령송달일  채권자계좌번호신고일  개시결정일   \n",
            "1   대전지방법원    2016개회41908   강성현       NaN      NaN         NaN    NaN   \n",
            "2   서울회생법원  2018개회1043001   강소영       NaN      NaN         NaN    NaN   \n",
            "3   서울회생법원   2014개회191060   강금순       NaN      NaN         NaN    NaN   \n",
            "4   울산지방법원    2017개회20924   강명호       NaN      NaN         NaN    NaN   \n",
            "5   대전지방법원    2014개회61649   강미리       NaN      NaN         NaN    NaN   \n",
            "6   서울회생법원     2018개회9459   강민성       NaN      NaN         NaN    NaN   \n",
            "7   전주지방법원   2014개회100402   강민정       NaN      NaN         NaN    NaN   \n",
            "8   수원지방법원   2014개회147238   강사랑       NaN      NaN         NaN    NaN   \n",
            "9   인천지방법원    2015개회37355   강소연       NaN      NaN         NaN    NaN   \n",
            "10  수원지방법원    2017개회54054   강아론       NaN      NaN         NaN    NaN   \n",
            "\n",
            "                 7                8      9        10  \n",
            "0   채권이의마감일(이의신청기간)  변제계획인가일(이의신청기간)  면책결정일  절차폐지결정일  \n",
            "1               NaN              NaN    NaN      NaN  \n",
            "2               NaN              NaN    NaN      NaN  \n",
            "3               NaN              NaN    NaN      NaN  \n",
            "4               NaN              NaN    NaN      NaN  \n",
            "5               NaN              NaN    NaN      NaN  \n",
            "6               NaN              NaN    NaN      NaN  \n",
            "7               NaN              NaN    NaN      NaN  \n",
            "8               NaN              NaN    NaN      NaN  \n",
            "9               NaN              NaN    NaN      NaN  \n",
            "10              NaN              NaN    NaN      NaN  \n",
            "        0              1     2         3        4           5      6   \\\n",
            "0     관할법원           사건번호  채무자명  접수일(신청일)  금지명령송달일  채권자계좌번호신고일  개시결정일   \n",
            "1   대전지방법원    2016개회41908   강성현       NaN      NaN         NaN    NaN   \n",
            "2   서울회생법원  2018개회1043001   강소영       NaN      NaN         NaN    NaN   \n",
            "3   서울회생법원   2014개회191060   강금순       NaN      NaN         NaN    NaN   \n",
            "4   울산지방법원    2017개회20924   강명호       NaN      NaN         NaN    NaN   \n",
            "5   대전지방법원    2014개회61649   강미리       NaN      NaN         NaN    NaN   \n",
            "6   서울회생법원     2018개회9459   강민성       NaN      NaN         NaN    NaN   \n",
            "7   전주지방법원   2014개회100402   강민정       NaN      NaN         NaN    NaN   \n",
            "8   수원지방법원   2014개회147238   강사랑       NaN      NaN         NaN    NaN   \n",
            "9   인천지방법원    2015개회37355   강소연       NaN      NaN         NaN    NaN   \n",
            "10  수원지방법원    2017개회54054   강아론       NaN      NaN         NaN    NaN   \n",
            "\n",
            "                 7                8      9        10  \n",
            "0   채권이의마감일(이의신청기간)  변제계획인가일(이의신청기간)  면책결정일  절차폐지결정일  \n",
            "1               NaN              NaN    NaN      NaN  \n",
            "2               NaN              NaN    NaN      NaN  \n",
            "3               NaN              NaN    NaN      NaN  \n",
            "4               NaN              NaN    NaN      NaN  \n",
            "5               NaN              NaN    NaN      NaN  \n",
            "6               NaN              NaN    NaN      NaN  \n",
            "7               NaN              NaN    NaN      NaN  \n",
            "8               NaN              NaN    NaN      NaN  \n",
            "9               NaN              NaN    NaN      NaN  \n",
            "10              NaN              NaN    NaN      NaN  \n",
            "        0              1     2         3        4           5      6   \\\n",
            "0     관할법원           사건번호  채무자명  접수일(신청일)  금지명령송달일  채권자계좌번호신고일  개시결정일   \n",
            "1   대전지방법원    2016개회41908   강성현       NaN      NaN         NaN    NaN   \n",
            "2   서울회생법원  2018개회1043001   강소영       NaN      NaN         NaN    NaN   \n",
            "3   서울회생법원   2014개회191060   강금순       NaN      NaN         NaN    NaN   \n",
            "4   울산지방법원    2017개회20924   강명호       NaN      NaN         NaN    NaN   \n",
            "5   대전지방법원    2014개회61649   강미리       NaN      NaN         NaN    NaN   \n",
            "6   서울회생법원     2018개회9459   강민성       NaN      NaN         NaN    NaN   \n",
            "7   전주지방법원   2014개회100402   강민정       NaN      NaN         NaN    NaN   \n",
            "8   수원지방법원   2014개회147238   강사랑       NaN      NaN         NaN    NaN   \n",
            "9   인천지방법원    2015개회37355   강소연       NaN      NaN         NaN    NaN   \n",
            "10  수원지방법원    2017개회54054   강아론       NaN      NaN         NaN    NaN   \n",
            "\n",
            "                 7                8      9        10  \n",
            "0   채권이의마감일(이의신청기간)  변제계획인가일(이의신청기간)  면책결정일  절차폐지결정일  \n",
            "1               NaN              NaN    NaN      NaN  \n",
            "2               NaN              NaN    NaN      NaN  \n",
            "3               NaN              NaN    NaN      NaN  \n",
            "4               NaN              NaN    NaN      NaN  \n",
            "5               NaN              NaN    NaN      NaN  \n",
            "6               NaN              NaN    NaN      NaN  \n",
            "7               NaN              NaN    NaN      NaN  \n",
            "8               NaN              NaN    NaN      NaN  \n",
            "9               NaN              NaN    NaN      NaN  \n",
            "10              NaN              NaN    NaN      NaN  \n",
            "        0              1     2         3        4           5      6   \\\n",
            "0     관할법원           사건번호  채무자명  접수일(신청일)  금지명령송달일  채권자계좌번호신고일  개시결정일   \n",
            "1   대전지방법원    2016개회41908   강성현       NaN      NaN         NaN    NaN   \n",
            "2   서울회생법원  2018개회1043001   강소영       NaN      NaN         NaN    NaN   \n",
            "3   서울회생법원   2014개회191060   강금순       NaN      NaN         NaN    NaN   \n",
            "4   울산지방법원    2017개회20924   강명호       NaN      NaN         NaN    NaN   \n",
            "5   대전지방법원    2014개회61649   강미리       NaN      NaN         NaN    NaN   \n",
            "6   서울회생법원     2018개회9459   강민성       NaN      NaN         NaN    NaN   \n",
            "7   전주지방법원   2014개회100402   강민정       NaN      NaN         NaN    NaN   \n",
            "8   수원지방법원   2014개회147238   강사랑       NaN      NaN         NaN    NaN   \n",
            "9   인천지방법원    2015개회37355   강소연       NaN      NaN         NaN    NaN   \n",
            "10  수원지방법원    2017개회54054   강아론       NaN      NaN         NaN    NaN   \n",
            "\n",
            "                 7                8      9        10  \n",
            "0   채권이의마감일(이의신청기간)  변제계획인가일(이의신청기간)  면책결정일  절차폐지결정일  \n",
            "1               NaN              NaN    NaN      NaN  \n",
            "2               NaN              NaN    NaN      NaN  \n",
            "3               NaN              NaN    NaN      NaN  \n",
            "4               NaN              NaN    NaN      NaN  \n",
            "5               NaN              NaN    NaN      NaN  \n",
            "6               NaN              NaN    NaN      NaN  \n",
            "7               NaN              NaN    NaN      NaN  \n",
            "8               NaN              NaN    NaN      NaN  \n",
            "9               NaN              NaN    NaN      NaN  \n",
            "10              NaN              NaN    NaN      NaN  \n",
            "        0              1     2         3        4           5      6   \\\n",
            "0     관할법원           사건번호  채무자명  접수일(신청일)  금지명령송달일  채권자계좌번호신고일  개시결정일   \n",
            "1   대전지방법원    2016개회41908   강성현       NaN      NaN         NaN    NaN   \n",
            "2   서울회생법원  2018개회1043001   강소영       NaN      NaN         NaN    NaN   \n",
            "3   서울회생법원   2014개회191060   강금순       NaN      NaN         NaN    NaN   \n",
            "4   울산지방법원    2017개회20924   강명호       NaN      NaN         NaN    NaN   \n",
            "5   대전지방법원    2014개회61649   강미리       NaN      NaN         NaN    NaN   \n",
            "6   서울회생법원     2018개회9459   강민성       NaN      NaN         NaN    NaN   \n",
            "7   전주지방법원   2014개회100402   강민정       NaN      NaN         NaN    NaN   \n",
            "8   수원지방법원   2014개회147238   강사랑       NaN      NaN         NaN    NaN   \n",
            "9   인천지방법원    2015개회37355   강소연       NaN      NaN         NaN    NaN   \n",
            "10  수원지방법원    2017개회54054   강아론       NaN      NaN         NaN    NaN   \n",
            "\n",
            "                 7                8      9        10  \n",
            "0   채권이의마감일(이의신청기간)  변제계획인가일(이의신청기간)  면책결정일  절차폐지결정일  \n",
            "1               NaN              NaN    NaN      NaN  \n",
            "2               NaN              NaN    NaN      NaN  \n",
            "3               NaN              NaN    NaN      NaN  \n",
            "4               NaN              NaN    NaN      NaN  \n",
            "5               NaN              NaN    NaN      NaN  \n",
            "6               NaN              NaN    NaN      NaN  \n",
            "7               NaN              NaN    NaN      NaN  \n",
            "8               NaN              NaN    NaN      NaN  \n",
            "9               NaN              NaN    NaN      NaN  \n",
            "10              NaN              NaN    NaN      NaN  \n",
            "        0              1     2         3        4           5      6   \\\n",
            "0     관할법원           사건번호  채무자명  접수일(신청일)  금지명령송달일  채권자계좌번호신고일  개시결정일   \n",
            "1   대전지방법원    2016개회41908   강성현       NaN      NaN         NaN    NaN   \n",
            "2   서울회생법원  2018개회1043001   강소영       NaN      NaN         NaN    NaN   \n",
            "3   서울회생법원   2014개회191060   강금순       NaN      NaN         NaN    NaN   \n",
            "4   울산지방법원    2017개회20924   강명호       NaN      NaN         NaN    NaN   \n",
            "5   대전지방법원    2014개회61649   강미리       NaN      NaN         NaN    NaN   \n",
            "6   서울회생법원     2018개회9459   강민성       NaN      NaN         NaN    NaN   \n",
            "7   전주지방법원   2014개회100402   강민정       NaN      NaN         NaN    NaN   \n",
            "8   수원지방법원   2014개회147238   강사랑       NaN      NaN         NaN    NaN   \n",
            "9   인천지방법원    2015개회37355   강소연       NaN      NaN         NaN    NaN   \n",
            "10  수원지방법원    2017개회54054   강아론       NaN      NaN         NaN    NaN   \n",
            "\n",
            "                 7                8      9        10  \n",
            "0   채권이의마감일(이의신청기간)  변제계획인가일(이의신청기간)  면책결정일  절차폐지결정일  \n",
            "1               NaN              NaN    NaN      NaN  \n",
            "2               NaN              NaN    NaN      NaN  \n",
            "3               NaN              NaN    NaN      NaN  \n",
            "4               NaN              NaN    NaN      NaN  \n",
            "5               NaN              NaN    NaN      NaN  \n",
            "6               NaN              NaN    NaN      NaN  \n",
            "7               NaN              NaN    NaN      NaN  \n",
            "8               NaN              NaN    NaN      NaN  \n",
            "9               NaN              NaN    NaN      NaN  \n",
            "10              NaN              NaN    NaN      NaN  \n",
            "        0              1     2         3        4           5      6   \\\n",
            "0     관할법원           사건번호  채무자명  접수일(신청일)  금지명령송달일  채권자계좌번호신고일  개시결정일   \n",
            "1   대전지방법원    2016개회41908   강성현       NaN      NaN         NaN    NaN   \n",
            "2   서울회생법원  2018개회1043001   강소영       NaN      NaN         NaN    NaN   \n",
            "3   서울회생법원   2014개회191060   강금순       NaN      NaN         NaN    NaN   \n",
            "4   울산지방법원    2017개회20924   강명호       NaN      NaN         NaN    NaN   \n",
            "5   대전지방법원    2014개회61649   강미리       NaN      NaN         NaN    NaN   \n",
            "6   서울회생법원     2018개회9459   강민성       NaN      NaN         NaN    NaN   \n",
            "7   전주지방법원   2014개회100402   강민정       NaN      NaN         NaN    NaN   \n",
            "8   수원지방법원   2014개회147238   강사랑       NaN      NaN         NaN    NaN   \n",
            "9   인천지방법원    2015개회37355   강소연       NaN      NaN         NaN    NaN   \n",
            "10  수원지방법원    2017개회54054   강아론       NaN      NaN         NaN    NaN   \n",
            "\n",
            "                 7                8      9        10  \n",
            "0   채권이의마감일(이의신청기간)  변제계획인가일(이의신청기간)  면책결정일  절차폐지결정일  \n",
            "1               NaN              NaN    NaN      NaN  \n",
            "2               NaN              NaN    NaN      NaN  \n",
            "3               NaN              NaN    NaN      NaN  \n",
            "4               NaN              NaN    NaN      NaN  \n",
            "5               NaN              NaN    NaN      NaN  \n",
            "6               NaN              NaN    NaN      NaN  \n",
            "7               NaN              NaN    NaN      NaN  \n",
            "8               NaN              NaN    NaN      NaN  \n",
            "9               NaN              NaN    NaN      NaN  \n",
            "10              NaN              NaN    NaN      NaN  \n",
            "        0              1     2         3        4           5      6   \\\n",
            "0     관할법원           사건번호  채무자명  접수일(신청일)  금지명령송달일  채권자계좌번호신고일  개시결정일   \n",
            "1   대전지방법원    2016개회41908   강성현       NaN      NaN         NaN    NaN   \n",
            "2   서울회생법원  2018개회1043001   강소영       NaN      NaN         NaN    NaN   \n",
            "3   서울회생법원   2014개회191060   강금순       NaN      NaN         NaN    NaN   \n",
            "4   울산지방법원    2017개회20924   강명호       NaN      NaN         NaN    NaN   \n",
            "5   대전지방법원    2014개회61649   강미리       NaN      NaN         NaN    NaN   \n",
            "6   서울회생법원     2018개회9459   강민성       NaN      NaN         NaN    NaN   \n",
            "7   전주지방법원   2014개회100402   강민정       NaN      NaN         NaN    NaN   \n",
            "8   수원지방법원   2014개회147238   강사랑       NaN      NaN         NaN    NaN   \n",
            "9   인천지방법원    2015개회37355   강소연       NaN      NaN         NaN    NaN   \n",
            "10  수원지방법원    2017개회54054   강아론       NaN      NaN         NaN    NaN   \n",
            "\n",
            "                 7                8      9        10  \n",
            "0   채권이의마감일(이의신청기간)  변제계획인가일(이의신청기간)  면책결정일  절차폐지결정일  \n",
            "1               NaN              NaN    NaN      NaN  \n",
            "2               NaN              NaN    NaN      NaN  \n",
            "3               NaN              NaN    NaN      NaN  \n",
            "4               NaN              NaN    NaN      NaN  \n",
            "5               NaN              NaN    NaN      NaN  \n",
            "6               NaN              NaN    NaN      NaN  \n",
            "7               NaN              NaN    NaN      NaN  \n",
            "8               NaN              NaN    NaN      NaN  \n",
            "9               NaN              NaN    NaN      NaN  \n",
            "10              NaN              NaN    NaN      NaN  \n",
            "        0              1     2         3        4           5      6   \\\n",
            "0     관할법원           사건번호  채무자명  접수일(신청일)  금지명령송달일  채권자계좌번호신고일  개시결정일   \n",
            "1   대전지방법원    2016개회41908   강성현       NaN      NaN         NaN    NaN   \n",
            "2   서울회생법원  2018개회1043001   강소영       NaN      NaN         NaN    NaN   \n",
            "3   서울회생법원   2014개회191060   강금순       NaN      NaN         NaN    NaN   \n",
            "4   울산지방법원    2017개회20924   강명호       NaN      NaN         NaN    NaN   \n",
            "5   대전지방법원    2014개회61649   강미리       NaN      NaN         NaN    NaN   \n",
            "6   서울회생법원     2018개회9459   강민성       NaN      NaN         NaN    NaN   \n",
            "7   전주지방법원   2014개회100402   강민정       NaN      NaN         NaN    NaN   \n",
            "8   수원지방법원   2014개회147238   강사랑       NaN      NaN         NaN    NaN   \n",
            "9   인천지방법원    2015개회37355   강소연       NaN      NaN         NaN    NaN   \n",
            "10  수원지방법원    2017개회54054   강아론       NaN      NaN         NaN    NaN   \n",
            "\n",
            "                 7                8      9        10  \n",
            "0   채권이의마감일(이의신청기간)  변제계획인가일(이의신청기간)  면책결정일  절차폐지결정일  \n",
            "1               NaN              NaN    NaN      NaN  \n",
            "2               NaN              NaN    NaN      NaN  \n",
            "3               NaN              NaN    NaN      NaN  \n",
            "4               NaN              NaN    NaN      NaN  \n",
            "5               NaN              NaN    NaN      NaN  \n",
            "6               NaN              NaN    NaN      NaN  \n",
            "7               NaN              NaN    NaN      NaN  \n",
            "8               NaN              NaN    NaN      NaN  \n",
            "9               NaN              NaN    NaN      NaN  \n",
            "10              NaN              NaN    NaN      NaN  \n",
            "        0              1     2         3        4           5      6   \\\n",
            "0     관할법원           사건번호  채무자명  접수일(신청일)  금지명령송달일  채권자계좌번호신고일  개시결정일   \n",
            "1   대전지방법원    2016개회41908   강성현       NaN      NaN         NaN    NaN   \n",
            "2   서울회생법원  2018개회1043001   강소영       NaN      NaN         NaN    NaN   \n",
            "3   서울회생법원   2014개회191060   강금순       NaN      NaN         NaN    NaN   \n",
            "4   울산지방법원    2017개회20924   강명호       NaN      NaN         NaN    NaN   \n",
            "5   대전지방법원    2014개회61649   강미리       NaN      NaN         NaN    NaN   \n",
            "6   서울회생법원     2018개회9459   강민성       NaN      NaN         NaN    NaN   \n",
            "7   전주지방법원   2014개회100402   강민정       NaN      NaN         NaN    NaN   \n",
            "8   수원지방법원   2014개회147238   강사랑       NaN      NaN         NaN    NaN   \n",
            "9   인천지방법원    2015개회37355   강소연       NaN      NaN         NaN    NaN   \n",
            "10  수원지방법원    2017개회54054   강아론       NaN      NaN         NaN    NaN   \n",
            "\n",
            "                 7                8      9        10  \n",
            "0   채권이의마감일(이의신청기간)  변제계획인가일(이의신청기간)  면책결정일  절차폐지결정일  \n",
            "1               NaN              NaN    NaN      NaN  \n",
            "2               NaN              NaN    NaN      NaN  \n",
            "3               NaN              NaN    NaN      NaN  \n",
            "4               NaN              NaN    NaN      NaN  \n",
            "5               NaN              NaN    NaN      NaN  \n",
            "6               NaN              NaN    NaN      NaN  \n",
            "7               NaN              NaN    NaN      NaN  \n",
            "8               NaN              NaN    NaN      NaN  \n",
            "9               NaN              NaN    NaN      NaN  \n",
            "10              NaN              NaN    NaN      NaN  \n",
            "        0              1     2         3        4           5      6   \\\n",
            "0     관할법원           사건번호  채무자명  접수일(신청일)  금지명령송달일  채권자계좌번호신고일  개시결정일   \n",
            "1   대전지방법원    2016개회41908   강성현       NaN      NaN         NaN    NaN   \n",
            "2   서울회생법원  2018개회1043001   강소영       NaN      NaN         NaN    NaN   \n",
            "3   서울회생법원   2014개회191060   강금순       NaN      NaN         NaN    NaN   \n",
            "4   울산지방법원    2017개회20924   강명호       NaN      NaN         NaN    NaN   \n",
            "5   대전지방법원    2014개회61649   강미리       NaN      NaN         NaN    NaN   \n",
            "6   서울회생법원     2018개회9459   강민성       NaN      NaN         NaN    NaN   \n",
            "7   전주지방법원   2014개회100402   강민정       NaN      NaN         NaN    NaN   \n",
            "8   수원지방법원   2014개회147238   강사랑       NaN      NaN         NaN    NaN   \n",
            "9   인천지방법원    2015개회37355   강소연       NaN      NaN         NaN    NaN   \n",
            "10  수원지방법원    2017개회54054   강아론       NaN      NaN         NaN    NaN   \n",
            "\n",
            "                 7                8      9        10  \n",
            "0   채권이의마감일(이의신청기간)  변제계획인가일(이의신청기간)  면책결정일  절차폐지결정일  \n",
            "1               NaN              NaN    NaN      NaN  \n",
            "2               NaN              NaN    NaN      NaN  \n",
            "3               NaN              NaN    NaN      NaN  \n",
            "4               NaN              NaN    NaN      NaN  \n",
            "5               NaN              NaN    NaN      NaN  \n",
            "6               NaN              NaN    NaN      NaN  \n",
            "7               NaN              NaN    NaN      NaN  \n",
            "8               NaN              NaN    NaN      NaN  \n",
            "9               NaN              NaN    NaN      NaN  \n",
            "10              NaN              NaN    NaN      NaN  \n",
            "        0              1     2         3        4           5      6   \\\n",
            "0     관할법원           사건번호  채무자명  접수일(신청일)  금지명령송달일  채권자계좌번호신고일  개시결정일   \n",
            "1   대전지방법원    2016개회41908   강성현       NaN      NaN         NaN    NaN   \n",
            "2   서울회생법원  2018개회1043001   강소영       NaN      NaN         NaN    NaN   \n",
            "3   서울회생법원   2014개회191060   강금순       NaN      NaN         NaN    NaN   \n",
            "4   울산지방법원    2017개회20924   강명호       NaN      NaN         NaN    NaN   \n",
            "5   대전지방법원    2014개회61649   강미리       NaN      NaN         NaN    NaN   \n",
            "6   서울회생법원     2018개회9459   강민성       NaN      NaN         NaN    NaN   \n",
            "7   전주지방법원   2014개회100402   강민정       NaN      NaN         NaN    NaN   \n",
            "8   수원지방법원   2014개회147238   강사랑       NaN      NaN         NaN    NaN   \n",
            "9   인천지방법원    2015개회37355   강소연       NaN      NaN         NaN    NaN   \n",
            "10  수원지방법원    2017개회54054   강아론       NaN      NaN         NaN    NaN   \n",
            "\n",
            "                 7                8      9        10  \n",
            "0   채권이의마감일(이의신청기간)  변제계획인가일(이의신청기간)  면책결정일  절차폐지결정일  \n",
            "1               NaN              NaN    NaN      NaN  \n",
            "2               NaN              NaN    NaN      NaN  \n",
            "3               NaN              NaN    NaN      NaN  \n",
            "4               NaN              NaN    NaN      NaN  \n",
            "5               NaN              NaN    NaN      NaN  \n",
            "6               NaN              NaN    NaN      NaN  \n",
            "7               NaN              NaN    NaN      NaN  \n",
            "8               NaN              NaN    NaN      NaN  \n",
            "9               NaN              NaN    NaN      NaN  \n",
            "10              NaN              NaN    NaN      NaN  \n",
            "        0              1     2         3        4           5      6   \\\n",
            "0     관할법원           사건번호  채무자명  접수일(신청일)  금지명령송달일  채권자계좌번호신고일  개시결정일   \n",
            "1   대전지방법원    2016개회41908   강성현       NaN      NaN         NaN    NaN   \n",
            "2   서울회생법원  2018개회1043001   강소영       NaN      NaN         NaN    NaN   \n",
            "3   서울회생법원   2014개회191060   강금순       NaN      NaN         NaN    NaN   \n",
            "4   울산지방법원    2017개회20924   강명호       NaN      NaN         NaN    NaN   \n",
            "5   대전지방법원    2014개회61649   강미리       NaN      NaN         NaN    NaN   \n",
            "6   서울회생법원     2018개회9459   강민성       NaN      NaN         NaN    NaN   \n",
            "7   전주지방법원   2014개회100402   강민정       NaN      NaN         NaN    NaN   \n",
            "8   수원지방법원   2014개회147238   강사랑       NaN      NaN         NaN    NaN   \n",
            "9   인천지방법원    2015개회37355   강소연       NaN      NaN         NaN    NaN   \n",
            "10  수원지방법원    2017개회54054   강아론       NaN      NaN         NaN    NaN   \n",
            "\n",
            "                 7                8      9        10  \n",
            "0   채권이의마감일(이의신청기간)  변제계획인가일(이의신청기간)  면책결정일  절차폐지결정일  \n",
            "1               NaN              NaN    NaN      NaN  \n",
            "2               NaN              NaN    NaN      NaN  \n",
            "3               NaN              NaN    NaN      NaN  \n",
            "4               NaN              NaN    NaN      NaN  \n",
            "5               NaN              NaN    NaN      NaN  \n",
            "6               NaN              NaN    NaN      NaN  \n",
            "7               NaN              NaN    NaN      NaN  \n",
            "8               NaN              NaN    NaN      NaN  \n",
            "9               NaN              NaN    NaN      NaN  \n",
            "10              NaN              NaN    NaN      NaN  \n",
            "        0              1     2         3        4           5      6   \\\n",
            "0     관할법원           사건번호  채무자명  접수일(신청일)  금지명령송달일  채권자계좌번호신고일  개시결정일   \n",
            "1   대전지방법원    2016개회41908   강성현       NaN      NaN         NaN    NaN   \n",
            "2   서울회생법원  2018개회1043001   강소영       NaN      NaN         NaN    NaN   \n",
            "3   서울회생법원   2014개회191060   강금순       NaN      NaN         NaN    NaN   \n",
            "4   울산지방법원    2017개회20924   강명호       NaN      NaN         NaN    NaN   \n",
            "5   대전지방법원    2014개회61649   강미리       NaN      NaN         NaN    NaN   \n",
            "6   서울회생법원     2018개회9459   강민성       NaN      NaN         NaN    NaN   \n",
            "7   전주지방법원   2014개회100402   강민정       NaN      NaN         NaN    NaN   \n",
            "8   수원지방법원   2014개회147238   강사랑       NaN      NaN         NaN    NaN   \n",
            "9   인천지방법원    2015개회37355   강소연       NaN      NaN         NaN    NaN   \n",
            "10  수원지방법원    2017개회54054   강아론       NaN      NaN         NaN    NaN   \n",
            "\n",
            "                 7                8      9        10  \n",
            "0   채권이의마감일(이의신청기간)  변제계획인가일(이의신청기간)  면책결정일  절차폐지결정일  \n",
            "1               NaN              NaN    NaN      NaN  \n",
            "2               NaN              NaN    NaN      NaN  \n",
            "3               NaN              NaN    NaN      NaN  \n",
            "4               NaN              NaN    NaN      NaN  \n",
            "5               NaN              NaN    NaN      NaN  \n",
            "6               NaN              NaN    NaN      NaN  \n",
            "7               NaN              NaN    NaN      NaN  \n",
            "8               NaN              NaN    NaN      NaN  \n",
            "9               NaN              NaN    NaN      NaN  \n",
            "10              NaN              NaN    NaN      NaN  \n",
            "        0              1     2         3        4           5      6   \\\n",
            "0     관할법원           사건번호  채무자명  접수일(신청일)  금지명령송달일  채권자계좌번호신고일  개시결정일   \n",
            "1   대전지방법원    2016개회41908   강성현       NaN      NaN         NaN    NaN   \n",
            "2   서울회생법원  2018개회1043001   강소영       NaN      NaN         NaN    NaN   \n",
            "3   서울회생법원   2014개회191060   강금순       NaN      NaN         NaN    NaN   \n",
            "4   울산지방법원    2017개회20924   강명호       NaN      NaN         NaN    NaN   \n",
            "5   대전지방법원    2014개회61649   강미리       NaN      NaN         NaN    NaN   \n",
            "6   서울회생법원     2018개회9459   강민성       NaN      NaN         NaN    NaN   \n",
            "7   전주지방법원   2014개회100402   강민정       NaN      NaN         NaN    NaN   \n",
            "8   수원지방법원   2014개회147238   강사랑       NaN      NaN         NaN    NaN   \n",
            "9   인천지방법원    2015개회37355   강소연       NaN      NaN         NaN    NaN   \n",
            "10  수원지방법원    2017개회54054   강아론       NaN      NaN         NaN    NaN   \n",
            "\n",
            "                 7                8      9        10  \n",
            "0   채권이의마감일(이의신청기간)  변제계획인가일(이의신청기간)  면책결정일  절차폐지결정일  \n",
            "1               NaN              NaN    NaN      NaN  \n",
            "2               NaN              NaN    NaN      NaN  \n",
            "3               NaN              NaN    NaN      NaN  \n",
            "4               NaN              NaN    NaN      NaN  \n",
            "5               NaN              NaN    NaN      NaN  \n",
            "6               NaN              NaN    NaN      NaN  \n",
            "7               NaN              NaN    NaN      NaN  \n",
            "8               NaN              NaN    NaN      NaN  \n",
            "9               NaN              NaN    NaN      NaN  \n",
            "10              NaN              NaN    NaN      NaN  \n",
            "        0              1     2         3        4           5      6   \\\n",
            "0     관할법원           사건번호  채무자명  접수일(신청일)  금지명령송달일  채권자계좌번호신고일  개시결정일   \n",
            "1   대전지방법원    2016개회41908   강성현       NaN      NaN         NaN    NaN   \n",
            "2   서울회생법원  2018개회1043001   강소영       NaN      NaN         NaN    NaN   \n",
            "3   서울회생법원   2014개회191060   강금순       NaN      NaN         NaN    NaN   \n",
            "4   울산지방법원    2017개회20924   강명호       NaN      NaN         NaN    NaN   \n",
            "5   대전지방법원    2014개회61649   강미리       NaN      NaN         NaN    NaN   \n",
            "6   서울회생법원     2018개회9459   강민성       NaN      NaN         NaN    NaN   \n",
            "7   전주지방법원   2014개회100402   강민정       NaN      NaN         NaN    NaN   \n",
            "8   수원지방법원   2014개회147238   강사랑       NaN      NaN         NaN    NaN   \n",
            "9   인천지방법원    2015개회37355   강소연       NaN      NaN         NaN    NaN   \n",
            "10  수원지방법원    2017개회54054   강아론       NaN      NaN         NaN    NaN   \n",
            "\n",
            "                 7                8      9        10  \n",
            "0   채권이의마감일(이의신청기간)  변제계획인가일(이의신청기간)  면책결정일  절차폐지결정일  \n",
            "1               NaN              NaN    NaN      NaN  \n",
            "2               NaN              NaN    NaN      NaN  \n",
            "3               NaN              NaN    NaN      NaN  \n",
            "4               NaN              NaN    NaN      NaN  \n",
            "5               NaN              NaN    NaN      NaN  \n",
            "6               NaN              NaN    NaN      NaN  \n",
            "7               NaN              NaN    NaN      NaN  \n",
            "8               NaN              NaN    NaN      NaN  \n",
            "9               NaN              NaN    NaN      NaN  \n",
            "10              NaN              NaN    NaN      NaN  \n"
          ],
          "name": "stdout"
        }
      ]
    },
    {
      "cell_type": "code",
      "metadata": {
        "id": "rokWFjI0-YMQ",
        "colab_type": "code",
        "colab": {}
      },
      "source": [
        "drv.find_element_by_xpath(\"//*[@href='/sf/mysafind.jsp?theme=scourt']\").click()"
      ],
      "execution_count": 0,
      "outputs": []
    },
    {
      "cell_type": "code",
      "metadata": {
        "id": "xCg1hMLk-YMY",
        "colab_type": "code",
        "colab": {},
        "outputId": "731f5de0-28f9-419d-81ab-006e9ba4bcba"
      },
      "source": [
        "drv.findElement(By.cssSelector(\"body\")).sendKeys(Keys.CONTROL +\"t\");"
      ],
      "execution_count": 0,
      "outputs": [
        {
          "output_type": "error",
          "ename": "AttributeError",
          "evalue": "'WebDriver' object has no attribute 'findElement'",
          "traceback": [
            "\u001b[0;31m---------------------------------------------------------------------------\u001b[0m",
            "\u001b[0;31mAttributeError\u001b[0m                            Traceback (most recent call last)",
            "\u001b[0;32m<ipython-input-59-f9b066daf59c>\u001b[0m in \u001b[0;36m<module>\u001b[0;34m\u001b[0m\n\u001b[0;32m----> 1\u001b[0;31m \u001b[0mdrv\u001b[0m\u001b[0;34m.\u001b[0m\u001b[0mfindElement\u001b[0m\u001b[0;34m(\u001b[0m\u001b[0mBy\u001b[0m\u001b[0;34m.\u001b[0m\u001b[0mcssSelector\u001b[0m\u001b[0;34m(\u001b[0m\u001b[0;34m\"body\"\u001b[0m\u001b[0;34m)\u001b[0m\u001b[0;34m)\u001b[0m\u001b[0;34m.\u001b[0m\u001b[0msendKeys\u001b[0m\u001b[0;34m(\u001b[0m\u001b[0mKeys\u001b[0m\u001b[0;34m.\u001b[0m\u001b[0mCONTROL\u001b[0m \u001b[0;34m+\u001b[0m\u001b[0;34m\"t\"\u001b[0m\u001b[0;34m)\u001b[0m\u001b[0;34m;\u001b[0m\u001b[0;34m\u001b[0m\u001b[0;34m\u001b[0m\u001b[0m\n\u001b[0m",
            "\u001b[0;31mAttributeError\u001b[0m: 'WebDriver' object has no attribute 'findElement'"
          ]
        }
      ]
    },
    {
      "cell_type": "code",
      "metadata": {
        "id": "s5pvd04T-YMc",
        "colab_type": "code",
        "colab": {}
      },
      "source": [
        "select = Select(drv.find_element_by_id('sch_bub_nm'))\n"
      ],
      "execution_count": 0,
      "outputs": []
    },
    {
      "cell_type": "code",
      "metadata": {
        "id": "ft40Yh-9-YMh",
        "colab_type": "code",
        "colab": {}
      },
      "source": [
        "# select by visible text\n",
        "select.select_by_visible_text('대법원')"
      ],
      "execution_count": 0,
      "outputs": []
    },
    {
      "cell_type": "code",
      "metadata": {
        "collapsed": true,
        "id": "KS1pWtiP-YMk",
        "colab_type": "code",
        "colab": {},
        "outputId": "a54aea25-3754-4b17-8207-eb6d7158ff94"
      },
      "source": [
        "#text_main = drv.page_source\n",
        "#bs_text_main = BeautifulSoup(text_main, \"html.parser\")\n",
        "\n",
        "a = soup.find_all('div', {'class' : 'breakDiv'})\n",
        "\n",
        "print(a)\n"
      ],
      "execution_count": 0,
      "outputs": [
        {
          "output_type": "stream",
          "text": [
            "[<div class=\"breakDiv\">사건번호</div>, <div class=\"breakDiv\">\n",
            "<label for=\"sch_bub_nm\">법원목록</label>\n",
            "<select class=\"graySelect\" id=\"sch_bub_nm\" name=\"sch_bub_nm\" onchange=\"onChangeBub();\" title=\"법원 목록선택\">\n",
            "<option value=\"\">법원선택</option>\n",
            "</select>\n",
            "</div>, <div class=\"breakDiv\" id=\"div_sa_year\">\n",
            "<label for=\"sel_sa_year\">년도 목록선택 </label>\n",
            "<select class=\"graySelect\" id=\"sel_sa_year\" name=\"sel_sa_year\" title=\"년도 목록선택\">\n",
            "<option value=\"2019\">2019</option>\n",
            "<option value=\"2018\">2018</option>\n",
            "<option value=\"2017\">2017</option>\n",
            "<option value=\"2016\">2016</option>\n",
            "<option value=\"2015\">2015</option>\n",
            "<option value=\"2014\">2014</option>\n",
            "<option value=\"2013\">2013</option>\n",
            "<option value=\"2012\">2012</option>\n",
            "<option value=\"2011\">2011</option>\n",
            "<option value=\"2010\">2010</option>\n",
            "<option value=\"2009\">2009</option>\n",
            "<option value=\"2008\">2008</option>\n",
            "<option value=\"2007\">2007</option>\n",
            "<option value=\"2006\">2006</option>\n",
            "<option value=\"2005\">2005</option>\n",
            "<option value=\"2004\">2004</option>\n",
            "<option value=\"2003\">2003</option>\n",
            "<option value=\"2002\">2002</option>\n",
            "<option value=\"2001\">2001</option>\n",
            "<option value=\"2000\">2000</option>\n",
            "<option value=\"1999\">1999</option>\n",
            "<option value=\"1998\">1998</option>\n",
            "<option value=\"1997\">1997</option>\n",
            "<option value=\"1996\">1996</option>\n",
            "<option value=\"1995\">1995</option>\n",
            "<option value=\"1994\">1994</option>\n",
            "<option value=\"1993\">1993</option>\n",
            "<option value=\"1992\">1992</option>\n",
            "<option value=\"1991\">1991</option>\n",
            "<option value=\"1990\">1990</option>\n",
            "<option value=\"1989\">1989</option>\n",
            "<option value=\"1988\">1988</option>\n",
            "<option value=\"1987\">1987</option>\n",
            "<option value=\"1986\">1986</option>\n",
            "<option value=\"1985\">1985</option>\n",
            "<option value=\"1969\">1969</option>\n",
            "</select>\n",
            "</div>, <div class=\"breakDiv\" id=\"div_sa_gubun\">\n",
            "<!--  2013.03.28 [13LG-SF0018] [사건검색] 홈페이지 웹 접근성 사건검색 관련 부분 개선 - 장진범 -->\n",
            "<label for=\"sa_gubun\">사건구분 목록선택 </label>\n",
            "<select class=\"graySelect\" id=\"sa_gubun\" name=\"sa_gubun\" title=\"사건구분 목록선택\">\n",
            "<option value=\"\">사건구분선택</option>\n",
            "</select>\n",
            "</div>, <div class=\"breakDiv\" id=\"div_sa_serial\">\n",
            "<label for=\"sa_serial\">사건일련번호</label>\n",
            "<input class=\"grayInput\" id=\"sa_serial\" maxlength=\"7\" name=\"sa_serial\" onkeypress=\"if(event.keyCode == 13){SearchSano();}\" size=\"7\" type=\"text\"/>\n",
            "</div>, <div class=\"breakDiv\" id=\"div_input_sano\">\n",
            "<input class=\"grayInput\" maxlength=\"14\" name=\"input_sano\" onblur=\"sano_hint()\" onfocus=\"sano_clear()\" onkeypress=\"if(event.keyCode == 13){SearchSano();}\" size=\"28\" title=\"입력예:17가단10\" type=\"text\" value=\"입력예:17가단10\"/>\n",
            "</div>, <div class=\"breakDiv\">\n",
            "<label class=\"hidden\" for=\"ds_nm\">당사자명입력</label>\n",
            "<!-- 2013.12.10 [13A-SF-1019][사건검색]홈페이지 사건검색 웹접근성 개선 진행 - 장진범  -->\n",
            "<input class=\"grayInput\" id=\"ds_nm\" maxlength=\"40\" name=\"ds_nm\" onblur=\"text_hint()\" onfocus=\"text_clear()\" onkeypress=\"if(event.keyCode == 13){SearchSano();}\" size=\"11\" title=\"당사자명 필수입력\" type=\"text\" value=\"당사자명 필수입력\">\n",
            "</input></div>, <div class=\"breakDiv\">\n",
            "<label class=\"hidden\" for=\"inputsano_ch\">사건번호 입력모드 선택</label>\n",
            "<input id=\"inputsano_ch\" name=\"inputsano_ch\" onclick=\"changeSearchWay(this.checked);\" type=\"checkbox\" value=\"\"/>사건번호입력모드\r\n",
            "                      </div>, <div class=\"breakDiv\" id=\"captcha\"><img alt=\"자동입력방지\" src=\"/sf/captchaImg?t=image\"/></div>, <div class=\"breakDiv\"><a class=\"blueBtn\" href=\"#\" onclick=\"javascript:reloadCaptcha();\">새로고침</a></div>, <div class=\"breakDiv\"><a class=\"blueBtn\" href=\"#\" onclick=\"javascript:audio();\">음성듣기</a></div>, <div class=\"breakDiv\">\n",
            "<label for=\"answer\">자동입력방지문자 입력</label>\n",
            "<input class=\"grayInput\" id=\"answer\" name=\"answer\" onblur=\"answer_hint()\" onfocus=\"answer_clear()\" onkeypress=\"if(event.keyCode == 13){SearchSano();}\" title=\"자동입력 방지문자\" value=\"자동입력 방지문자를 입력 하십시오\"/>\n",
            "</div>, <div class=\"breakDiv\"><a class=\"redBtn\" href=\"#\" onclick=\"javascript:SearchSano();\">검색</a></div>]\n"
          ],
          "name": "stdout"
        }
      ]
    },
    {
      "cell_type": "code",
      "metadata": {
        "id": "CZImxxWI-YMr",
        "colab_type": "code",
        "colab": {}
      },
      "source": [
        "table = soup.find('table', {'class' : 'bbs_list'})\n",
        "listt = table.find_all(\"tr\")\n",
        "listt2 = table.find_all('td')"
      ],
      "execution_count": 0,
      "outputs": []
    },
    {
      "cell_type": "code",
      "metadata": {
        "id": "COM9aH_7-YNF",
        "colab_type": "code",
        "colab": {}
      },
      "source": [
        "text_main = drv.page_source\n",
        "bs_text_main = BeautifulSoup(text_main, \"html.parser\")"
      ],
      "execution_count": 0,
      "outputs": []
    },
    {
      "cell_type": "code",
      "metadata": {
        "id": "OHauQ4Um-YNP",
        "colab_type": "code",
        "colab": {}
      },
      "source": [
        "a = soup.find_all('div', {'class' : 'subTabContents'})"
      ],
      "execution_count": 0,
      "outputs": []
    },
    {
      "cell_type": "code",
      "metadata": {
        "id": "Ze4msSMW-YNV",
        "colab_type": "code",
        "colab": {},
        "outputId": "231d14f8-35ad-4f38-87a7-e8456931742a"
      },
      "source": [
        "print(a)"
      ],
      "execution_count": 0,
      "outputs": [
        {
          "output_type": "stream",
          "text": [
            "[<div class=\"content\" id=\"content\">\n",
            "<h2><div class=\"conTitle\">나의 사건검색</div></h2>\n",
            "<div id=\"contants\">\n",
            "<iframe frameborder=\"0\" height=\"1100\" marginheight=\"0\" marginwidth=\"0\" scrolling=\"auto\" src=\"http://safind.scourt.go.kr/sf/mysafind.jsp?sch_sa_gbn=&amp;sch_bub_nm=&amp;sa_year=&amp;sa_gubun=&amp;sa_serial=&amp;x=&amp;y=&amp;saveCookie=\" title=\"나의 사건검색\" width=\"100%\"></iframe>\n",
            "<noframes title=\"나의사건검색(새창)\">\n",
            "<a href=\"http://safind.scourt.go.kr/sf/mysafind.jsp?sch_sa_gbn=&amp;sch_bub_nm=&amp;sa_year=&amp;sa_gubun=&amp;sa_serial=&amp;x=&amp;y=&amp;saveCookie=\" target=\"_blank\" title=\"나의사건검색(새창)\">프레임이 보이지 않을경우 이곳을 클릭해주세요</a>\n",
            "</noframes>\n",
            "</div>\n",
            "</div>]\n"
          ],
          "name": "stdout"
        }
      ]
    },
    {
      "cell_type": "code",
      "metadata": {
        "id": "xLas03Jl-YNa",
        "colab_type": "code",
        "colab": {}
      },
      "source": [
        ""
      ],
      "execution_count": 0,
      "outputs": []
    }
  ]
}